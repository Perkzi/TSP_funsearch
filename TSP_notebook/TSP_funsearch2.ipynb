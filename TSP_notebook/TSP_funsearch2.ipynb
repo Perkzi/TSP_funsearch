{
  "cells": [
    {
      "cell_type": "markdown",
      "id": "58ba1915fced4e72",
      "metadata": {
        "id": "58ba1915fced4e72"
      },
      "source": [
        "# Run FunSearch on Bin Packing\n",
        "Five steps:\n",
        "1. Implement 'LLM' interface.\n",
        "2. Implement a 'SandBox' interface.\n",
        "3. Prepare a 'specification'.\n",
        "4. Prepare a dataset.\n",
        "5. Start FunSearch."
      ]
    },
    {
      "cell_type": "markdown",
      "id": "6a2d02b8e9c3ba67",
      "metadata": {
        "id": "6a2d02b8e9c3ba67"
      },
      "source": [
        "## Preparation: download the project file from github. And update system path."
      ]
    },
    {
      "cell_type": "code",
      "source": [
        "'''import shutil\n",
        "\n",
        "folder_path = \"/content/TSP_funsearch\"\n",
        "shutil.rmtree(folder_path)  # delete existing tsp if needed'''"
      ],
      "metadata": {
        "id": "5QDaO7hTacpf",
        "colab": {
          "base_uri": "https://localhost:8080/",
          "height": 35
        },
        "outputId": "0b64625d-bd47-4527-ac7e-edbe032edb88"
      },
      "id": "5QDaO7hTacpf",
      "execution_count": 1,
      "outputs": [
        {
          "output_type": "execute_result",
          "data": {
            "text/plain": [
              "'import shutil\\n\\nfolder_path = \"/content/TSP_funsearch\"\\nshutil.rmtree(folder_path)  # delete existing tsp if needed'"
            ],
            "application/vnd.google.colaboratory.intrinsic+json": {
              "type": "string"
            }
          },
          "metadata": {},
          "execution_count": 1
        }
      ]
    },
    {
      "cell_type": "code",
      "execution_count": 2,
      "id": "22453e8153e0934c",
      "metadata": {
        "colab": {
          "base_uri": "https://localhost:8080/"
        },
        "id": "22453e8153e0934c",
        "outputId": "8a825214-7e1e-4b84-d629-f9cacb113e51"
      },
      "outputs": [
        {
          "output_type": "stream",
          "name": "stdout",
          "text": [
            "fatal: destination path 'TSP_funsearch' already exists and is not an empty directory.\n",
            "['/content', '/env/python', '/usr/lib/python311.zip', '/usr/lib/python3.11', '/usr/lib/python3.11/lib-dynload', '', '/usr/local/lib/python3.11/dist-packages', '/usr/lib/python3/dist-packages', '/usr/local/lib/python3.11/dist-packages/IPython/extensions', '/root/.ipython', '/content/TSP_funsearch/']\n"
          ]
        }
      ],
      "source": [
        "!git clone https://github.com/Perkzi/TSP_funsearch.git\n",
        "\n",
        "import sys\n",
        "\n",
        "sys.path.append('/content/TSP_funsearch/')\n",
        "print(sys.path)"
      ]
    },
    {
      "cell_type": "markdown",
      "id": "fe47175708cc0a93",
      "metadata": {
        "id": "fe47175708cc0a93"
      },
      "source": [
        "## 1. Implement LLM interface\n",
        "Set the API's IP address according to your API provider (See line 65 in the following code).\n",
        "```python\n",
        "conn = http.client.HTTPSConnection(\"api.chatanywhere.com.cn\")\n",
        "```\n",
        "You should prepare a 'key' for the LLM API. And fill them in the header (See line 76-80 in the following code).\n",
        "```python\n",
        "headers = {\n",
        "    'Authorization': 'Bearer [put your key here, the key may start with \"sk-...\"]',\n",
        "    'User-Agent': 'Apifox/1.0.0 (https://apifox.com)',\n",
        "    'Content-Type': 'application/json'\n",
        "}\n",
        "```"
      ]
    },
    {
      "cell_type": "code",
      "execution_count": 3,
      "id": "1999e45c9a568b08",
      "metadata": {
        "colab": {
          "base_uri": "https://localhost:8080/",
          "height": 35
        },
        "id": "1999e45c9a568b08",
        "outputId": "3a71c05d-8bb1-432c-f716-a043058759f7"
      },
      "outputs": [
        {
          "output_type": "execute_result",
          "data": {
            "text/plain": [
              "\"\\nllm = LLMAPI(samples_per_prompt=4)\\nresponse = llm._draw_sample('hello')\\nprint(response)\\n\""
            ],
            "application/vnd.google.colaboratory.intrinsic+json": {
              "type": "string"
            }
          },
          "metadata": {},
          "execution_count": 3
        }
      ],
      "source": [
        "import time\n",
        "import json\n",
        "import multiprocessing\n",
        "from typing import Collection, Any\n",
        "import http.client\n",
        "import traceback\n",
        "from implementation import sampler\n",
        "\n",
        "\n",
        "\n",
        "def _trim_preface_of_body(sample: str) -> str:\n",
        "    \"\"\"Trim the redundant descriptions/symbols/'def' declaration before the function body.\n",
        "    Please see my comments in sampler.LLM (in sampler.py).\n",
        "    Since the LLM used in this file is not a pure code completion LLM, this trim function is required.\n",
        "\n",
        "    -Example sample (function & description generated by LLM):\n",
        "    -------------------------------------\n",
        "    This is the optimized function ...\n",
        "    def priority_v2(...) -> ...:\n",
        "        return ...\n",
        "    This function aims to ...\n",
        "    -------------------------------------\n",
        "    -This function removes the description above the function's signature, and the function's signature.\n",
        "    -The indent of the code is preserved.\n",
        "    -Return of this function:\n",
        "    -------------------------------------\n",
        "        return ...\n",
        "    This function aims to ...\n",
        "    -------------------------------------\n",
        "    去掉def之前和自己的行\n",
        "    \"\"\"\n",
        "    lines = sample.splitlines()\n",
        "    func_body_lineno = 0\n",
        "    find_def_declaration = False\n",
        "    for lineno, line in enumerate(lines):\n",
        "        # find the first 'def' statement in the given code\n",
        "        if line[:3] == 'def':\n",
        "            func_body_lineno = lineno\n",
        "            find_def_declaration = True\n",
        "            break\n",
        "    if find_def_declaration:\n",
        "        code = ''\n",
        "        for line in lines[func_body_lineno + 1:]:\n",
        "            code += line + '\\n'\n",
        "        return code\n",
        "    return sample\n",
        "\n",
        "from openai import OpenAI\n",
        "import time\n",
        "from typing import Collection\n",
        "#from TSP_algorithms.additional_prompts import base_prompt as ap\n",
        "\n",
        "# 1.choose a different additional_prompts\n",
        "# 'base_prompt' 'step_by_step_prompts'  'multi_path_analysis_prompts'\n",
        "# 'heuristic_meta_prompts' 'multi_phase_prompts' 'self_analysis_prompts'\n",
        "from TSP_algorithms.additional_prompts2 import step_by_step_prompts as ap\n",
        "\n",
        "class LLMAPI:\n",
        "    def __init__(self, samples_per_prompt: int, trim=True):\n",
        "        API_KEY = \"\" # 设置 OpenAI API 密钥\n",
        "        BASE_URL = 'https://api.bltcy.ai/v1'\n",
        "        self.client = OpenAI(api_key=API_KEY, base_url=BASE_URL)\n",
        "        self._samples_per_prompt = samples_per_prompt\n",
        "        self._trim = trim\n",
        "        if ap:\n",
        "            self._additional_prompt = ap\n",
        "        else:\n",
        "            self._additional_prompt = (\n",
        "                \"Complete a different and more complex Python function. \"\n",
        "                \"Be creative and you can insert multiple if-else and for-loop in the code logic. \"\n",
        "                \"Only output the Python code, no descriptions.\"\n",
        "            )\n",
        "        if type(self._additional_prompt) is not list:\n",
        "          self._additional_prompt = [self._additional_prompt]\n",
        "\n",
        "    def draw_samples(self, prompt: str) -> Collection[str]:\n",
        "        \"\"\"Returns multiple predicted continuations of `prompt`.\"\"\"\n",
        "        #print(\"draw-samples\")\n",
        "        return [self._draw_sample(prompt) for _ in range(self._samples_per_prompt)]\n",
        "\n",
        "    def _draw_sample(self, content: str) -> str:\n",
        "        max_retries = 3\n",
        "\n",
        "        # whether have the pre prompt before main prompt\n",
        "        if len(self._additional_prompt)<=1:\n",
        "          prompt = '\\n'.join([content, self._additional_prompt[0]])\n",
        "        elif len(self._additional_prompt)==2:\n",
        "          pre_prompt = '\\n'.join([content, self._additional_prompt[0]])\n",
        "          retries = 0\n",
        "          pre_output = ''\n",
        "          prompt = ''\n",
        "          while retries < max_retries:\n",
        "            try:\n",
        "                #print(\"prompt\")\n",
        "                response = self.client.chat.completions.create(\n",
        "                    model=\"gpt-3.5-turbo\",\n",
        "                    messages=[{\"role\": \"user\", \"content\": pre_prompt}],\n",
        "                    max_tokens=512,\n",
        "                    stream=False,\n",
        "                )\n",
        "                print(\"pre_response\",response)\n",
        "                pre_output = response.choices[0].message.content\n",
        "                # 将 第二个prompt中的 <insert optimization analysis here> 替换为分析结果。\n",
        "                prompt = '\\n'.join([content, self._additional_prompt[1].replace(\"<insert optimization analysis here>\", pre_output)])\n",
        "                break\n",
        "                #return output\n",
        "            except Exception as e:\n",
        "                traceback.print_exc()\n",
        "                print(f\"Error occurred: {e}\")\n",
        "                retries += 1\n",
        "                time.sleep(2)\n",
        "        else:\n",
        "          raise RuntimeError(\"list of additional_prompt should have length <= 2\")\n",
        "\n",
        "        # the main prompt\n",
        "        retries = 0\n",
        "        output = ''\n",
        "        while retries < max_retries:\n",
        "            try:\n",
        "                #print(\"prompt\")\n",
        "                response = self.client.chat.completions.create(\n",
        "                    model=\"gpt-3.5-turbo\",\n",
        "                    messages=[{\"role\": \"user\", \"content\": prompt}],\n",
        "                    max_tokens=512,\n",
        "                    stream=False,\n",
        "                )\n",
        "                print(\"response\",response)\n",
        "                output = response.choices[0].message.content\n",
        "\n",
        "                if self._trim:\n",
        "                    output = _trim_preface_of_body(output)\n",
        "                break\n",
        "                #return output\n",
        "            except Exception as e:\n",
        "                traceback.print_exc()\n",
        "                print(f\"Error occurred: {e}\")\n",
        "                retries += 1\n",
        "                time.sleep(2)\n",
        "        if output == '':\n",
        "            print(\"Failed\")\n",
        "            raise RuntimeError(\"Failed after multiple retries\")\n",
        "        return output\n",
        "\n",
        "# test LLMAPI\n",
        "'''\n",
        "llm = LLMAPI(samples_per_prompt=4)\n",
        "response = llm._draw_sample('hello')\n",
        "print(response)\n",
        "'''"
      ]
    },
    {
      "cell_type": "markdown",
      "id": "d27817cdec2cedfc",
      "metadata": {
        "id": "d27817cdec2cedfc"
      },
      "source": [
        "## 2. Implement a 'SandBox' interface"
      ]
    },
    {
      "cell_type": "code",
      "execution_count": 4,
      "id": "3e3d88a87535b6b2",
      "metadata": {
        "id": "3e3d88a87535b6b2"
      },
      "outputs": [],
      "source": [
        "from implementation import evaluator\n",
        "from implementation import evaluator_accelerate\n",
        "\n",
        "\n",
        "class Sandbox(evaluator.Sandbox):\n",
        "    \"\"\"Sandbox for executing generated code. Implemented by RZ.\n",
        "\n",
        "    RZ: Sandbox returns the 'score' of the program and:\n",
        "    1) avoids the generated code to be harmful (accessing the internet, take up too much RAM).\n",
        "    2) stops the execution of the code in time (avoid endless loop).\n",
        "    \"\"\"\n",
        "\n",
        "    def __init__(self, verbose=False, numba_accelerate=True):\n",
        "        \"\"\"\n",
        "        Args:\n",
        "            verbose         : Print evaluate information.\n",
        "            numba_accelerate: Use numba to accelerate the evaluation. It should be noted that not all numpy functions\n",
        "                              support numba acceleration, such as np.piecewise().\n",
        "        \"\"\"\n",
        "        self._verbose = verbose\n",
        "        self._numba_accelerate = numba_accelerate\n",
        "\n",
        "    def run(\n",
        "            self,\n",
        "            program: str,\n",
        "            function_to_run: str,  # RZ: refers to the name of the function to run (e.g., 'evaluate')\n",
        "            function_to_evolve: str,  # RZ: accelerate the code by decorating @numba.jit() on function_to_evolve.\n",
        "            inputs: Any,  # refers to the dataset # self._inputs是数据集的dict，current_input是当前使用的数据集的key (名字str)\n",
        "            test_input: str,  # refers to the current instance\n",
        "            timeout_seconds: int,\n",
        "            **kwargs  # RZ: add this\n",
        "    ) -> tuple[Any, bool]:\n",
        "        \"\"\"Returns `function_to_run(test_input)` and whether execution succeeded.\n",
        "\n",
        "        RZ: If the generated code (generated by LLM) is executed successfully,\n",
        "        the output of this function is the score of a given program.\n",
        "        RZ: PLEASE NOTE THAT this SandBox is only designed for bin-packing problem.\n",
        "        返回 (function_to_run(test_input)运行结果，True)\n",
        "        \"\"\"\n",
        "        dataset = inputs[test_input]\n",
        "        try:\n",
        "            # 当你有多个进程时，每个进程都会将它们的结果放入各自的 result_queue 中？\n",
        "            result_queue = multiprocessing.Queue()\n",
        "            # 创建一个新的进程 process，目标函数为 self._compile_and_run_function，并传递相应的参数。只并行了一个进程\n",
        "            process = multiprocessing.Process(\n",
        "                target=self._compile_and_run_function,\n",
        "                args=(program, function_to_run, function_to_evolve, dataset, self._numba_accelerate, result_queue)\n",
        "            )\n",
        "            process.start()\n",
        "            # 等待进程完成。如果进程在 timeout_seconds 时间内未完成，继续执行后续代码\n",
        "            process.join(timeout=timeout_seconds)\n",
        "            if process.is_alive():\n",
        "                # 如果进程仍然在运行（超时未完成）\n",
        "                # if the process is not finished in time, we consider the program illegal\n",
        "                process.terminate()\n",
        "                process.join()\n",
        "                results = None, False\n",
        "            else:\n",
        "                # 如果进程已完成，从队列中获取结果。\n",
        "                if not result_queue.empty():\n",
        "                    results = result_queue.get_nowait()\n",
        "                else:\n",
        "                    results = None, False\n",
        "\n",
        "            return results\n",
        "        except:\n",
        "            return None, False\n",
        "\n",
        "    def _compile_and_run_function(self, program, function_to_run, function_to_evolve, dataset, numba_accelerate,\n",
        "                                  result_queue):\n",
        "        try:\n",
        "            # optimize the code (decorate function_to_run with @numba.jit())\n",
        "            # 加上 @numba.jit() 装饰器\n",
        "            if numba_accelerate:\n",
        "                program = evaluator_accelerate.add_numba_decorator(\n",
        "                    program=program,\n",
        "                    function_to_evolve=function_to_evolve\n",
        "                )\n",
        "            # compile the program, and maps the global func/var/class name to its address\n",
        "            all_globals_namespace = {}\n",
        "            # execute the program, map func/var/class to global namespace\n",
        "            # exec 是一个内置的Python函数，用于动态执行Python代码。\n",
        "            # program 是一个包含要执行代码的字符串。all_globals_namespace 是一个字典，用于保存执行代码期间创建的全局变量、函数和类\n",
        "            exec(program, all_globals_namespace)\n",
        "            # get the pointer of 'function_to_run'\n",
        "            # 从 all_globals_namespace 中获取要运行的函数\n",
        "            function_to_run = all_globals_namespace[function_to_run]\n",
        "            # return the execution results\n",
        "            results = function_to_run(dataset)\n",
        "            # the results must be int or float\n",
        "            if not isinstance(results, (int, float)):\n",
        "                result_queue.put((None, False))\n",
        "                return\n",
        "            result_queue.put((results, True))\n",
        "        except Exception:\n",
        "            # if raise any exception, we assume the execution failed\n",
        "            result_queue.put((None, False))"
      ]
    },
    {
      "cell_type": "markdown",
      "id": "ec3a05827354f9ae",
      "metadata": {
        "id": "ec3a05827354f9ae"
      },
      "source": [
        "## 3. Prepare a 'specification'"
      ]
    },
    {
      "cell_type": "code",
      "execution_count": 5,
      "id": "2e2f875d128a693a",
      "metadata": {
        "id": "2e2f875d128a693a",
        "colab": {
          "base_uri": "https://localhost:8080/"
        },
        "outputId": "e586b90c-f259-4e91-d4ee-05044f8c2b3a"
      },
      "outputs": [
        {
          "output_type": "stream",
          "name": "stdout",
          "text": [
            "\n",
            "import numpy as np\n",
            "import time\n",
            "\n",
            "def tsp_evaluate(route: list[int], distances: np.ndarray) -> float:\n",
            "    return (\n",
            "        sum(distances[route[i], route[i + 1]] for i in range(len(route) - 1))\n",
            "        + distances[route[-1], route[0]]\n",
            "    )\n",
            "\n",
            "@funsearch.evolve\n",
            "def tsp_priority(\n",
            "    current_path: list[int],          # 目前已形成的回路（首尾不同）\n",
            "    unvisited: list[int],             # 仍待插入的城市\n",
            "    distances: np.ndarray,            # 距离矩阵\n",
            ") -> tuple[int, int]:\n",
            "    \"\"\"\n",
            "    选择 (city_to_insert, insert_position)，使新增距离增量最小。\n",
            "    insert_position 表示要把 city 插到 current_path 的哪个索引之前。\n",
            "    \"\"\"\n",
            "    best_delta = float(\"inf\")\n",
            "    best_city, best_position = unvisited[0], 1\n",
            "\n",
            "    path_len = len(current_path)\n",
            "    for candidate_city in unvisited:\n",
            "        # 枚举 current_path 上的每条边 (i -> j)\n",
            "        for idx in range(path_len):\n",
            "            i = current_path[idx]\n",
            "            j = current_path[(idx + 1) % path_len]  # % 保证最后连回起点\n",
            "            delta = (\n",
            "                distances[i, candidate_city]\n",
            "                + distances[candidate_city, j]\n",
            "                - distances[i, j]\n",
            "            )\n",
            "            if delta < best_delta:\n",
            "                best_delta = delta\n",
            "                best_city = candidate_city\n",
            "                best_position = idx + 1          # 插到 j 前面\n",
            "\n",
            "    return best_city, best_position\n",
            "\n",
            "def tsp_solve(distances: np.ndarray, start_city: int = 0) -> list[int]:\n",
            "   \n",
            "    num_cities = distances.shape[0]\n",
            "\n",
            "    # --- ① 初始回路：任选两个城市 ---\n",
            "    current_path = [start_city, (start_city + 1) % num_cities]\n",
            "    unvisited = [c for c in range(num_cities) if c not in current_path]\n",
            "\n",
            "    # --- ② 逐步插入剩余城市 ---\n",
            "    while unvisited:\n",
            "        city_to_insert, insert_pos = tsp_priority(current_path, unvisited, distances)\n",
            "        current_path.insert(insert_pos, city_to_insert)\n",
            "        unvisited.remove(city_to_insert)\n",
            "\n",
            "    return current_path  # 不含重复首尾\n",
            "\n",
            "@funsearch.run\n",
            "def evaluate(instances: dict) -> float:\n",
            "    total_costs, total_times = [], []\n",
            "    compare_with_optimal = True\n",
            "    summary = []\n",
            "    \n",
            "    for name, instance in instances.items():\n",
            "        \n",
            "        distances = instance[\"distances\"]\n",
            "\n",
            "        start_time = time.perf_counter()\n",
            "        \n",
            "        route = tsp_solve(distances)\n",
            "        \n",
            "        elapsed = time.perf_counter() - start_time\n",
            "\n",
            "        cost = tsp_evaluate(route, distances)\n",
            "        total_costs.append(cost)\n",
            "        total_times.append(elapsed)\n",
            "\n",
            "        opt_route = instance.get(\"optimal_tour\")\n",
            "        if compare_with_optimal and opt_route:\n",
            "            opt_cost = tsp_evaluate(opt_route, distances)\n",
            "            approx_ratio = cost / opt_cost\n",
            "            print(\n",
            "                f\"{name}: 路径长度 = {cost:.2f}, \"\n",
            "                f\"最优 = {opt_cost:.2f}, 近似比 = {approx_ratio:.4f}, \"\n",
            "                f\"时间 = {elapsed:.3f}s\"\n",
            "            )\n",
            "            summary.append((name, cost, opt_cost, approx_ratio, elapsed))\n",
            "        else:\n",
            "            print(f\"{name}: 路径长度 = {cost:.2f}, 无最优参考, 时间 = {elapsed:.3f}s\")\n",
            "            summary.append((name, cost, None, None, elapsed))\n",
            "\n",
            "    print(\n",
            "        f\"平均路径长度: {np.mean(total_costs):.2f}, \"\n",
            "        f\"平均运行时间: {np.mean(total_times):.3f}s\"\n",
            "    )\n",
            "    return -np.mean(total_costs)\n",
            "\n"
          ]
        }
      ],
      "source": [
        "# 2.choose a different initial algorithm\n",
        "# 'TSP_algorithm_cheapest' 'TSP_algorithm_farthest' 'TSP_algorithm_nearest'\n",
        "from TSP_algorithms import TSP_algorithm_cheapest as algo\n",
        "specification = algo.specification\n",
        "print(specification)\n"
      ]
    },
    {
      "cell_type": "markdown",
      "id": "391bfe61e1661e18",
      "metadata": {
        "id": "391bfe61e1661e18"
      },
      "source": [
        "## 4. Prepare a dataset"
      ]
    },
    {
      "cell_type": "code",
      "source": [
        "!pip install tsplib95"
      ],
      "metadata": {
        "colab": {
          "base_uri": "https://localhost:8080/"
        },
        "id": "5c3Ai6JQxjII",
        "outputId": "899a4317-4f78-4053-9e22-b16939243229"
      },
      "id": "5c3Ai6JQxjII",
      "execution_count": 6,
      "outputs": [
        {
          "output_type": "stream",
          "name": "stdout",
          "text": [
            "Requirement already satisfied: tsplib95 in /usr/local/lib/python3.11/dist-packages (0.7.1)\n",
            "Requirement already satisfied: Click>=6.0 in /usr/local/lib/python3.11/dist-packages (from tsplib95) (8.1.8)\n",
            "Requirement already satisfied: Deprecated~=1.2.9 in /usr/local/lib/python3.11/dist-packages (from tsplib95) (1.2.18)\n",
            "Requirement already satisfied: networkx~=2.1 in /usr/local/lib/python3.11/dist-packages (from tsplib95) (2.8.8)\n",
            "Requirement already satisfied: tabulate~=0.8.7 in /usr/local/lib/python3.11/dist-packages (from tsplib95) (0.8.10)\n",
            "Requirement already satisfied: wrapt<2,>=1.10 in /usr/local/lib/python3.11/dist-packages (from Deprecated~=1.2.9->tsplib95) (1.17.2)\n"
          ]
        }
      ]
    },
    {
      "cell_type": "code",
      "execution_count": 7,
      "id": "fea85ccfc8c0ca6d",
      "metadata": {
        "id": "fea85ccfc8c0ca6d"
      },
      "outputs": [],
      "source": [
        "#from TSP_data import bin_packing_utils\n",
        "#bin_packing_or3 = {'OR3': bin_packing_utils.datasets['OR3']}\n",
        "\n",
        "from TSP_data import TSP_DataLoading\n",
        "TSP_datasets = {}\n",
        "\n",
        "instances_AlgorithmDevelop = TSP_DataLoading.build_funsearch_dataset(TSP_DataLoading.tsplib_data1)\n",
        "instances_PerformanceTesting = TSP_DataLoading.build_funsearch_dataset(TSP_DataLoading.tsplib_data2)\n",
        "instances_GeneralizationTesting = TSP_DataLoading.build_funsearch_dataset(TSP_DataLoading.tsplib_data3)\n",
        "\n",
        "for name, instance in instances_AlgorithmDevelop.items():\n",
        "  TSP_datasets[name] = {'section1':instance}\n",
        "\n",
        "for name, instance in instances_PerformanceTesting.items():\n",
        "  TSP_datasets[name] = {'section1':instance}\n",
        "\n",
        "for name, instance in instances_GeneralizationTesting.items():\n",
        "  TSP_datasets[name] = {'section1':instance}\n",
        "\n",
        "# 3.选一个数据集\n",
        "# 'berlin52', 'eil76' 'kroA100' 'pr124' 'd198' 'lin318' 'pcb442'\n",
        "name = 'berlin52'\n",
        "dataset_to_eval = {name: TSP_datasets[name]}\n",
        "\n"
      ]
    },
    {
      "cell_type": "markdown",
      "id": "cb66651fb2764ce9",
      "metadata": {
        "id": "cb66651fb2764ce9"
      },
      "source": [
        "## 5. Start FunSearch\n",
        "Please note that in jupyter notebook the following code will fail. This is because juypter does not support multiprocessing. Colab backend supports multiprocessing."
      ]
    },
    {
      "cell_type": "code",
      "execution_count": 8,
      "id": "1e0ec0c796d09ca1",
      "metadata": {
        "colab": {
          "base_uri": "https://localhost:8080/"
        },
        "id": "1e0ec0c796d09ca1",
        "outputId": "4b5eb3e4-2388-4d6e-f831-78cb666b5010"
      },
      "outputs": [
        {
          "output_type": "stream",
          "name": "stdout",
          "text": [
            "\n",
            "import numpy as np\n",
            "import time\n",
            " [Function(name='tsp_evaluate', args='route: list[int], distances: np.ndarray', body='    return (\\n        sum(distances[route[i], route[i + 1]] for i in range(len(route) - 1))\\n        + distances[route[-1], route[0]]\\n    )', return_type='float', docstring=None, score=None, global_sample_nums=None, sample_time=None, evaluate_time=None), Function(name='tsp_priority', args='current_path: list[int], unvisited: list[int], distances: np.ndarray', body='    best_delta = float(\"inf\")\\n    best_city, best_position = unvisited[0], 1\\n\\n    path_len = len(current_path)\\n    for candidate_city in unvisited:\\n        # 枚举 current_path 上的每条边 (i -> j)\\n        for idx in range(path_len):\\n            i = current_path[idx]\\n            j = current_path[(idx + 1) % path_len]  # % 保证最后连回起点\\n            delta = (\\n                distances[i, candidate_city]\\n                + distances[candidate_city, j]\\n                - distances[i, j]\\n            )\\n            if delta < best_delta:\\n                best_delta = delta\\n                best_city = candidate_city\\n                best_position = idx + 1          # 插到 j 前面\\n\\n    return best_city, best_position', return_type='tuple[int, int]', docstring='\\n    选择 (city_to_insert, insert_position)，使新增距离增量最小。\\n    insert_position 表示要把 city 插到 current_path 的哪个索引之前。\\n    ', score=None, global_sample_nums=None, sample_time=None, evaluate_time=None), Function(name='tsp_solve', args='distances: np.ndarray, start_city: int=0', body='    num_cities = distances.shape[0]\\n\\n    # --- ① 初始回路：任选两个城市 ---\\n    current_path = [start_city, (start_city + 1) % num_cities]\\n    unvisited = [c for c in range(num_cities) if c not in current_path]\\n\\n    # --- ② 逐步插入剩余城市 ---\\n    while unvisited:\\n        city_to_insert, insert_pos = tsp_priority(current_path, unvisited, distances)\\n        current_path.insert(insert_pos, city_to_insert)\\n        unvisited.remove(city_to_insert)\\n\\n    return current_path  # 不含重复首尾', return_type='list[int]', docstring=None, score=None, global_sample_nums=None, sample_time=None, evaluate_time=None), Function(name='evaluate', args='instances: dict', body='    total_costs, total_times = [], []\\n    compare_with_optimal = True\\n    summary = []\\n    \\n    for name, instance in instances.items():\\n        \\n        distances = instance[\"distances\"]\\n\\n        start_time = time.perf_counter()\\n        \\n        route = tsp_solve(distances)\\n        \\n        elapsed = time.perf_counter() - start_time\\n\\n        cost = tsp_evaluate(route, distances)\\n        total_costs.append(cost)\\n        total_times.append(elapsed)\\n\\n        opt_route = instance.get(\"optimal_tour\")\\n        if compare_with_optimal and opt_route:\\n            opt_cost = tsp_evaluate(opt_route, distances)\\n            approx_ratio = cost / opt_cost\\n            print(\\n                f\"{name}: 路径长度 = {cost:.2f}, \"\\n                f\"最优 = {opt_cost:.2f}, 近似比 = {approx_ratio:.4f}, \"\\n                f\"时间 = {elapsed:.3f}s\"\\n            )\\n            summary.append((name, cost, opt_cost, approx_ratio, elapsed))\\n        else:\\n            print(f\"{name}: 路径长度 = {cost:.2f}, 无最优参考, 时间 = {elapsed:.3f}s\")\\n            summary.append((name, cost, None, None, elapsed))\\n\\n    print(\\n        f\"平均路径长度: {np.mean(total_costs):.2f}, \"\\n        f\"平均运行时间: {np.mean(total_times):.3f}s\"\\n    )\\n    return -np.mean(total_costs)', return_type='float', docstring=None, score=None, global_sample_nums=None, sample_time=None, evaluate_time=None)] <class 'implementation.code_manipulation.Program'>\n",
            "section1: 路径长度 = 9050.69, 无最优参考, 时间 = 0.543s\n",
            "平均路径长度: 9050.69, 平均运行时间: 0.543s\n"
          ]
        },
        {
          "output_type": "stream",
          "name": "stderr",
          "text": [
            "INFO:absl:Best score of island 0 increased to -9050.693986415012\n",
            "INFO:absl:Best score of island 1 increased to -9050.693986415012\n",
            "INFO:absl:Best score of island 2 increased to -9050.693986415012\n",
            "INFO:absl:Best score of island 3 increased to -9050.693986415012\n",
            "INFO:absl:Best score of island 4 increased to -9050.693986415012\n",
            "INFO:absl:Best score of island 5 increased to -9050.693986415012\n",
            "INFO:absl:Best score of island 6 increased to -9050.693986415012\n",
            "INFO:absl:Best score of island 7 increased to -9050.693986415012\n",
            "INFO:absl:Best score of island 8 increased to -9050.693986415012\n",
            "INFO:absl:Best score of island 9 increased to -9050.693986415012\n"
          ]
        },
        {
          "output_type": "stream",
          "name": "stdout",
          "text": [
            "================= Evaluated Function =================\n",
            "def tsp_priority(current_path: list[int], unvisited: list[int], distances: np.ndarray) -> tuple[int, int]:\n",
            "    \"\"\"\n",
            "    选择 (city_to_insert, insert_position)，使新增距离增量最小。\n",
            "    insert_position 表示要把 city 插到 current_path 的哪个索引之前。\n",
            "    \"\"\"\n",
            "    best_delta = float(\"inf\")\n",
            "    best_city, best_position = unvisited[0], 1\n",
            "\n",
            "    path_len = len(current_path)\n",
            "    for candidate_city in unvisited:\n",
            "        # 枚举 current_path 上的每条边 (i -> j)\n",
            "        for idx in range(path_len):\n",
            "            i = current_path[idx]\n",
            "            j = current_path[(idx + 1) % path_len]  # % 保证最后连回起点\n",
            "            delta = (\n",
            "                distances[i, candidate_city]\n",
            "                + distances[candidate_city, j]\n",
            "                - distances[i, j]\n",
            "            )\n",
            "            if delta < best_delta:\n",
            "                best_delta = delta\n",
            "                best_city = candidate_city\n",
            "                best_position = idx + 1          # 插到 j 前面\n",
            "\n",
            "    return best_city, best_position\n",
            "------------------------------------------------------\n",
            "Score        : -9050.693986415012\n",
            "Sample time  : None\n",
            "Evaluate time: 0.8217024803161621\n",
            "Sample orders: None\n",
            "======================================================\n",
            "\n",
            "\n"
          ]
        },
        {
          "output_type": "stream",
          "name": "stderr",
          "text": [
            "INFO:httpx:HTTP Request: POST https://api.bltcy.ai/v1/chat/completions \"HTTP/1.1 200 OK\"\n"
          ]
        },
        {
          "output_type": "stream",
          "name": "stdout",
          "text": [
            "pre_response ChatCompletion(id='chatcmpl-BPWolYRxtycBpym2ET4ovhFErxFSh', choices=[Choice(finish_reason='stop', index=0, logprobs=None, message=ChatCompletionMessage(content='The current heuristic approach to solving the TSP problem utilizes a priority-based strategy to determine the next city to visit and where to insert it in the current path. The algorithm iterates over all unvisited cities and potential insertion points in the current path to find the combination that minimizes the increase in total distance.\\n\\nTo optimize the algorithm, we can break it down into several structured phases:\\n\\n1. Initialization:\\n   - Initialize the current path with a starting city and an empty list of unvisited cities.\\n   - Compute the distance matrix between all pairs of cities.\\n\\n2. Iterative Improvement:\\n   - In each iteration, consider all unvisited cities as potential candidates for the next city to visit.\\n   - For each candidate city, calculate the delta in total distance if the city is inserted at each possible position in the current path.\\n   - Track the candidate city and insertion position that result in the minimum delta.\\n   - Update the current path by inserting the selected city at the chosen position.\\n   - Repeat the process until all cities are visited.\\n\\n3. Termination:\\n   - The algorithm terminates when all cities have been visited and added to the path.\\n\\nPotential pitfalls and limitations of the current approach include:\\n- The algorithm may become inefficient as the number of cities increases due to the exhaustive search for the best insertion.\\n- It may get stuck in local minima and fail to find the globally optimal solution.\\n- The algorithm does not incorporate mechanisms for diversification or intensification to explore the search space effectively.\\n\\nTo improve the algorithm, we can:\\n- Implement a loop structure to iterate over all unvisited cities and potential insertion points efficiently.\\n- Introduce recursion to handle backtracking and explore different paths in the solution space.\\n- Include conditionals to guide the search towards promising regions or explore alternative strategies based on certain criteria.\\n- Enhance the algorithm with perturbation mechanisms to escape local optima and explore diverse solutions.\\n\\nBy incorporating these enhancements, the algorithm can potentially overcome its limitations and achieve better performance in solving the TSP problem.', refusal=None, role='assistant', annotations=None, audio=None, function_call=None, tool_calls=None))], created=1745424051, model='gpt-3.5-turbo-0125', object='chat.completion', service_tier=None, system_fingerprint='fp_0165350fbb', usage=CompletionUsage(completion_tokens=406, prompt_tokens=388, total_tokens=794, completion_tokens_details=None, prompt_tokens_details=None))\n"
          ]
        },
        {
          "output_type": "stream",
          "name": "stderr",
          "text": [
            "INFO:httpx:HTTP Request: POST https://api.bltcy.ai/v1/chat/completions \"HTTP/1.1 200 OK\"\n"
          ]
        },
        {
          "output_type": "stream",
          "name": "stdout",
          "text": [
            "response ChatCompletion(id='chatcmpl-BPWopKdnt9PVUVcHBi2VvkssxtEgM', choices=[Choice(finish_reason='stop', index=0, logprobs=None, message=ChatCompletionMessage(content='```python\\nimport numpy as np\\n\\ndef tsp_priority_v2(current_path: list[int], unvisited: list[int], distances: np.ndarray) -> tuple[int, int]:\\n    best_delta = float(\"inf\")\\n    best_city, best_position = unvisited[0], 1\\n    \\n    if not unvisited:  # Termination condition\\n        return best_city, best_position\\n    \\n    path_len = len(current_path)\\n    for candidate_city in unvisited:\\n        for idx in range(path_len):\\n            i = current_path[idx]\\n            j = current_path[(idx + 1) % path_len]\\n            delta = (distances[i, candidate_city] + distances[candidate_city, j] - distances[i, j])\\n            if delta < best_delta:\\n                best_delta = delta\\n                best_city = candidate_city\\n                best_position = idx + 1\\n    \\n    return best_city, best_position\\n\\ndef tsp_solver(num_cities: int, distances: np.ndarray):\\n    current_path = [0]  # Start from city 0\\n    unvisited = list(range(1, num_cities))\\n    \\n    while unvisited:\\n        city_to_insert, insert_position = tsp_priority_v2(current_path, unvisited, distances)\\n        current_path.insert(insert_position, city_to_insert)\\n        unvisited.remove(city_to_insert)\\n    \\n    return current_path\\n\\n# Example usage\\nnum_cities = 5\\ndistances = np.array([[0, 1, 2, 3, 4],\\n                       [1, 0, 2, 3, 4],\\n                       [2, 2, 0, 3, 4],\\n                       [3, 3, 3, 0, 4],\\n                       [4, 4, 4, 4, 0]])\\n\\nfinal_path = tsp_solver(num_cities, distances)\\nprint(final_path)\\n```', refusal=None, role='assistant', annotations=None, audio=None, function_call=None, tool_calls=None))], created=1745424055, model='gpt-3.5-turbo-0125', object='chat.completion', service_tier=None, system_fingerprint='fp_0165350fbb', usage=CompletionUsage(completion_tokens=391, prompt_tokens=770, total_tokens=1161, completion_tokens_details=None, prompt_tokens_details=None))\n"
          ]
        },
        {
          "output_type": "stream",
          "name": "stderr",
          "text": [
            "INFO:httpx:HTTP Request: POST https://api.bltcy.ai/v1/chat/completions \"HTTP/1.1 200 OK\"\n"
          ]
        },
        {
          "output_type": "stream",
          "name": "stdout",
          "text": [
            "pre_response ChatCompletion(id='chatcmpl-BPWotNblNcbkMscMkXHbFikP8BJ6C', choices=[Choice(finish_reason='stop', index=0, logprobs=None, message=ChatCompletionMessage(content='The current heuristic approach for solving the TSP problem follows a priority-based strategy to determine the city to insert into the current path and where to insert it in order to minimize the increase in total distance. \\n\\nTo optimize this algorithm, we can break it down into the following phases:\\n\\n1. Initialization:\\n   - Initialize the current path with the starting city.\\n   - Identify the unvisited cities and calculate the distances between all pairs of cities.\\n   \\n2. Iterative Improvement:\\n   - Iterate over each unvisited city and each edge in the current path to determine the city to insert and where to insert it for the minimum increase in distance.\\n   - Calculate the delta distance for each possible insertion and update the best city and position if a better one is found.\\n   - Repeat this process for all unvisited cities and edges in the current path to find the best insertion.\\n\\n3. Termination:\\n   - Terminate when all unvisited cities have been added to the path in the optimal order.\\n\\nSome potential pitfalls and limitations of the current approach include:\\n- The algorithm might not always find the globally optimal solution due to the greedy nature of the heuristic.\\n- The complexity of the algorithm can increase with the number of unvisited cities and edges, leading to longer computation times for large instances.\\n- The algorithm may get stuck in local optima or suboptimal solutions due to the limited exploration of possible insertions.\\n\\nTo improve the algorithm, we can consider the following enhancements:\\n- Use iterative improvement techniques like local search or simulated annealing to explore a wider range of solutions.\\n- Implement a mechanism to diversify search paths, such as randomization or intelligent heuristics, to escape local optima.\\n- Add a stopping criterion or termination condition to prevent the algorithm from running indefinitely.\\n- Utilize loops, recursion, and conditionals effectively to streamline the decision-making process and optimize the search for the best insertion points.\\n\\nBy incorporating these improvements, we can enhance the efficiency and effectiveness of the TSP heuristic algorithm to find better solutions for larger instances while avoiding common pitfalls and limitations of the current approach.', refusal=None, role='assistant', annotations=None, audio=None, function_call=None, tool_calls=None))], created=1745424059, model='gpt-3.5-turbo-0125', object='chat.completion', service_tier=None, system_fingerprint='fp_0165350fbb', usage=CompletionUsage(completion_tokens=419, prompt_tokens=388, total_tokens=807, completion_tokens_details=None, prompt_tokens_details=None))\n"
          ]
        },
        {
          "output_type": "stream",
          "name": "stderr",
          "text": [
            "INFO:httpx:HTTP Request: POST https://api.bltcy.ai/v1/chat/completions \"HTTP/1.1 200 OK\"\n"
          ]
        },
        {
          "output_type": "stream",
          "name": "stdout",
          "text": [
            "response ChatCompletion(id='chatcmpl-BPWoxdr11skMg9Ml4AayOS7RcDlwJ', choices=[Choice(finish_reason='stop', index=0, logprobs=None, message=ChatCompletionMessage(content='```python\\ndef tsp_priority_v2(current_path: list[int], unvisited: list[int], distances: np.ndarray) -> tuple[int, int]:\\n    best_delta = float(\"inf\")\\n    best_city, best_position = unvisited[0], 1\\n\\n    path_len = len(current_path)\\n    for candidate_city in unvisited:\\n        for idx in range(path_len):\\n            i = current_path[idx]\\n            j = current_path[(idx + 1) % path_len]\\n            delta = (\\n                distances[i, candidate_city]\\n                + distances[candidate_city, j]\\n                - distances[i, j]\\n            )\\n            if delta < best_delta:\\n                best_delta = delta\\n                best_city = candidate_city\\n                best_position = idx + 1\\n\\n    return best_city, best_position\\n\\ndef tsp_priority_v3(current_path: list[int], unvisited: list[int], distances: np.ndarray) -> tuple[int, int]:\\n    best_delta = float(\"inf\")\\n    best_city, best_position = unvisited[0], 1\\n\\n    path_len = len(current_path)\\n    for candidate_city in unvisited:\\n        for idx in range(path_len):\\n            i = current_path[idx]\\n            j = current_path[(idx + 1) % path_len]\\n            delta = (\\n                distances[i, candidate_city]\\n                + distances[candidate_city, j]\\n                - distances[i, j]\\n            )\\n            if delta < best_delta:\\n                best_delta = delta\\n                best_city = candidate_city\\n                best_position = idx + 1\\n\\n    return best_city, best_position\\n```', refusal=None, role='assistant', annotations=None, audio=None, function_call=None, tool_calls=None))], created=1745424063, model='gpt-3.5-turbo-0125', object='chat.completion', service_tier=None, system_fingerprint='fp_0165350fbb', usage=CompletionUsage(completion_tokens=330, prompt_tokens=783, total_tokens=1113, completion_tokens_details=None, prompt_tokens_details=None))\n"
          ]
        },
        {
          "output_type": "stream",
          "name": "stderr",
          "text": [
            "INFO:httpx:HTTP Request: POST https://api.bltcy.ai/v1/chat/completions \"HTTP/1.1 200 OK\"\n"
          ]
        },
        {
          "output_type": "stream",
          "name": "stdout",
          "text": [
            "pre_response ChatCompletion(id='chatcmpl-BPWp1quREXLw01pMl761UysqJLeyB', choices=[Choice(finish_reason='stop', index=0, logprobs=None, message=ChatCompletionMessage(content='The current heuristic approach for solving the TSP problem follows a priority-based strategy where the next city to visit is determined based on minimizing the increment in distance. The algorithm goes through each unvisited city and each possible insertion point in the current path to find the city and position that generates the smallest distance increase.\\n\\nTo optimize this algorithm, we can break it down into several phases:\\n\\n1. Initialization:\\n   - Initialize the current path with the starting city.\\n   - Generate a list of unvisited cities.\\n   - Create a matrix of distances between all cities.\\n\\n2. Iterative Improvement:\\n   - Iterate through each unvisited city and each possible insertion point in the current path.\\n   - Calculate the increase in distance if the city is inserted at that position.\\n   - Keep track of the city and position that results in the smallest distance increment.\\n\\n3. Termination:\\n   - Continue the iterative improvement process until all cities are visited.\\n   - Terminate when all cities are visited, and the path is complete.\\n\\nPotential pitfalls and limitations of this approach include:\\n- Combinatorial explosion: as the number of cities grows, the computational complexity increases exponentially.\\n- Local optima: the algorithm may get stuck in suboptimal solutions and fail to find the global optimum.\\n\\nTo improve the algorithm:\\n- Implement looping structures to iterate through cities and insertion points more efficiently.\\n- Utilize recursion to explore different paths and backtrack if a suboptimal solution is encountered.\\n- Introduce conditionals to handle edge cases and optimize the selection process.\\n\\nOverall, optimizing the algorithm will involve enhancing the efficiency of city and insertion point selection, addressing potential bottlenecks, and improving the overall quality of the solution found for the TSP problem.', refusal=None, role='assistant', annotations=None, audio=None, function_call=None, tool_calls=None))], created=1745424067, model='gpt-3.5-turbo-0125', object='chat.completion', service_tier=None, system_fingerprint='fp_0165350fbb', usage=CompletionUsage(completion_tokens=344, prompt_tokens=388, total_tokens=732, completion_tokens_details=None, prompt_tokens_details=None))\n"
          ]
        },
        {
          "output_type": "stream",
          "name": "stderr",
          "text": [
            "INFO:httpx:HTTP Request: POST https://api.bltcy.ai/v1/chat/completions \"HTTP/1.1 200 OK\"\n"
          ]
        },
        {
          "output_type": "stream",
          "name": "stdout",
          "text": [
            "response ChatCompletion(id='chatcmpl-BPWp6rKNeGkvVABs9tls1uaftC5R0', choices=[Choice(finish_reason='stop', index=0, logprobs=None, message=ChatCompletionMessage(content=\"```python\\nimport numpy as np\\n\\ndef tsp_priority_v2(start_city: int, distances: np.ndarray) -> list[int]:\\n    def tsp_helper(current_city: int, visited: set[int]) -> tuple[int, list[int]]:\\n        if len(visited) == len(distances):\\n            return distances[current_city, start_city], [start_city]\\n        \\n        min_distance = float('inf')\\n        best_path = []\\n        \\n        for next_city in range(len(distances)):\\n            if next_city not in visited:\\n                new_visited = visited.copy()\\n                new_visited.add(next_city)\\n                \\n                distance, path = tsp_helper(next_city, new_visited)\\n                distance += distances[current_city, next_city]\\n                \\n                if distance < min_distance:\\n                    min_distance = distance\\n                    best_path = [next_city] + path\\n        \\n        return min_distance, best_path\\n    \\n    _, path = tsp_helper(start_city, {start_city})\\n    return [start_city] + path\\n```  \", refusal=None, role='assistant', annotations=None, audio=None, function_call=None, tool_calls=None))], created=1745424072, model='gpt-3.5-turbo-0125', object='chat.completion', service_tier=None, system_fingerprint='fp_0165350fbb', usage=CompletionUsage(completion_tokens=200, prompt_tokens=708, total_tokens=908, completion_tokens_details=None, prompt_tokens_details=None))\n"
          ]
        },
        {
          "output_type": "stream",
          "name": "stderr",
          "text": [
            "INFO:httpx:HTTP Request: POST https://api.bltcy.ai/v1/chat/completions \"HTTP/1.1 200 OK\"\n"
          ]
        },
        {
          "output_type": "stream",
          "name": "stdout",
          "text": [
            "pre_response ChatCompletion(id='chatcmpl-BPWp8idQK06UPB8CyuPUzJ2j47IZo', choices=[Choice(finish_reason='stop', index=0, logprobs=None, message=ChatCompletionMessage(content='The current heuristic approach for solving the TSP problem is based on a priority rule that selects the city and its position to insert into the current path in order to minimize the increase in distance. The approach evaluates the potential delta in distance for each possible insertion point and selects the one that results in the smallest increase.\\n\\nTo optimize this algorithm, we can outline a structured, step-by-step logic as follows:\\n\\n1. Initialization:\\n   - Initialize the current path, list of unvisited cities, and distance matrix.\\n   \\n2. Iterative Improvement:\\n   - Iterate through each unvisited city to evaluate the best city and position to insert into the path.\\n   - Calculate the delta in distance when inserting the city at each possible position.\\n   - Update the best city and position if a smaller delta is found.\\n   \\n3. Termination:\\n   - Exit the loop when all unvisited cities have been evaluated.\\n   - Return the best city and position found as the output.\\n\\nPotential pitfalls and limitations of the current approach include:\\n- Limited exploration: The algorithm may get stuck in local minima and not explore other potential optimal solutions.\\n- Inefficient search: The naive search for the best city and position may not be optimal for large TSP instances.\\n- Lack of optimization: The algorithm may not leverage additional information or heuristics to improve performance.\\n\\nTo improve the algorithm, we can consider the following approaches:\\n- Implement loop structures to iterate through all unvisited cities more efficiently.\\n- Utilize recursion to explore different insertion possibilities and backtrack if a better solution is found.\\n- Introduce conditionals to incorporate additional heuristics or criteria for selecting the best city and position.\\n- Incorporate metaheuristic techniques like simulated annealing or genetic algorithms for enhanced exploration of the solution space.\\n\\nBy improving the algorithm with these control structures and optimization techniques, we can enhance its efficiency, effectiveness, and scalability for solving the TSP problem.', refusal=None, role='assistant', annotations=None, audio=None, function_call=None, tool_calls=None))], created=1745424074, model='gpt-3.5-turbo-0125', object='chat.completion', service_tier=None, system_fingerprint='fp_0165350fbb', usage=CompletionUsage(completion_tokens=384, prompt_tokens=388, total_tokens=772, completion_tokens_details=None, prompt_tokens_details=None))\n"
          ]
        },
        {
          "output_type": "stream",
          "name": "stderr",
          "text": [
            "INFO:httpx:HTTP Request: POST https://api.bltcy.ai/v1/chat/completions \"HTTP/1.1 200 OK\"\n"
          ]
        },
        {
          "output_type": "stream",
          "name": "stdout",
          "text": [
            "response ChatCompletion(id='chatcmpl-BPWpE09zZyoX3amFqhm6fD01dPy8H', choices=[Choice(finish_reason='stop', index=0, logprobs=None, message=ChatCompletionMessage(content='```python\\ndef tsp_priority_v2(current_path: list[int], unvisited: list[int], distances: np.ndarray) -> tuple[int, int]:\\n    best_delta = float(\"inf\")\\n    best_city, best_position = unvisited[0], 1\\n\\n    path_len = len(current_path)\\n    for candidate_city in unvisited:\\n        best_delta_candidate = float(\"inf\")\\n        best_position_candidate = -1\\n        for idx in range(path_len):\\n            i = current_path[idx]\\n            j = current_path[(idx + 1) % path_len]\\n            delta = (\\n                distances[i, candidate_city]\\n                + distances[candidate_city, j]\\n                - distances[i, j]\\n            )\\n            if delta < best_delta_candidate:\\n                best_delta_candidate = delta\\n                best_position_candidate = idx + 1\\n        \\n        if best_delta_candidate < best_delta:\\n            best_delta = best_delta_candidate\\n            best_city = candidate_city\\n            best_position = best_position_candidate\\n\\n    return best_city, best_position\\n```', refusal=None, role='assistant', annotations=None, audio=None, function_call=None, tool_calls=None))], created=1745424080, model='gpt-3.5-turbo-0125', object='chat.completion', service_tier=None, system_fingerprint='fp_0165350fbb', usage=CompletionUsage(completion_tokens=212, prompt_tokens=748, total_tokens=960, completion_tokens_details=None, prompt_tokens_details=None))\n",
            "section1: 路径长度 = 9050.69, 无最优参考, 时间 = 0.565s\n",
            "平均路径长度: 9050.69, 平均运行时间: 0.565s\n",
            "================= Evaluated Function =================\n",
            "def tsp_priority(current_path: list[int], unvisited: list[int], distances: np.ndarray) -> tuple[int, int]:\n",
            "    \"\"\"\n",
            "    选择 (city_to_insert, insert_position)，使新增距离增量最小。\n",
            "    insert_position 表示要把 city 插到 current_path 的哪个索引之前。\n",
            "    \"\"\"\n",
            "    best_delta = float(\"inf\")\n",
            "    best_city, best_position = unvisited[0], 1\n",
            "    \n",
            "    if not unvisited:  # Termination condition\n",
            "        return best_city, best_position\n",
            "    \n",
            "    path_len = len(current_path)\n",
            "    for candidate_city in unvisited:\n",
            "        for idx in range(path_len):\n",
            "            i = current_path[idx]\n",
            "            j = current_path[(idx + 1) % path_len]\n",
            "            delta = (distances[i, candidate_city] + distances[candidate_city, j] - distances[i, j])\n",
            "            if delta < best_delta:\n",
            "                best_delta = delta\n",
            "                best_city = candidate_city\n",
            "                best_position = idx + 1\n",
            "    \n",
            "    return best_city, best_position\n",
            "------------------------------------------------------\n",
            "Score        : -9050.693986415012\n",
            "Sample time  : 8.027850210666656\n",
            "Evaluate time: 0.8525753021240234\n",
            "Sample orders: 2\n",
            "======================================================\n",
            "\n",
            "\n",
            "section1: 路径长度 = 9050.69, 无最优参考, 时间 = 0.546s\n",
            "平均路径长度: 9050.69, 平均运行时间: 0.546s\n",
            "================= Evaluated Function =================\n",
            "def tsp_priority(current_path: list[int], unvisited: list[int], distances: np.ndarray) -> tuple[int, int]:\n",
            "    \"\"\"\n",
            "    选择 (city_to_insert, insert_position)，使新增距离增量最小。\n",
            "    insert_position 表示要把 city 插到 current_path 的哪个索引之前。\n",
            "    \"\"\"\n",
            "    best_delta = float(\"inf\")\n",
            "    best_city, best_position = unvisited[0], 1\n",
            "\n",
            "    path_len = len(current_path)\n",
            "    for candidate_city in unvisited:\n",
            "        for idx in range(path_len):\n",
            "            i = current_path[idx]\n",
            "            j = current_path[(idx + 1) % path_len]\n",
            "            delta = (\n",
            "                distances[i, candidate_city]\n",
            "                + distances[candidate_city, j]\n",
            "                - distances[i, j]\n",
            "            )\n",
            "            if delta < best_delta:\n",
            "                best_delta = delta\n",
            "                best_city = candidate_city\n",
            "                best_position = idx + 1\n",
            "\n",
            "    return best_city, best_position\n",
            "------------------------------------------------------\n",
            "Score        : -9050.693986415012\n",
            "Sample time  : 8.027850210666656\n",
            "Evaluate time: 0.8177368640899658\n",
            "Sample orders: 3\n",
            "======================================================\n",
            "\n",
            "\n",
            "================= Evaluated Function =================\n",
            "def tsp_priority(current_path: list[int], unvisited: list[int], distances: np.ndarray) -> tuple[int, int]:\n",
            "    \"\"\"\n",
            "    选择 (city_to_insert, insert_position)，使新增距离增量最小。\n",
            "    insert_position 表示要把 city 插到 current_path 的哪个索引之前。\n",
            "    \"\"\"\n",
            "    def tsp_helper(current_city: int, visited: set[int]) -> tuple[int, list[int]]:\n",
            "        if len(visited) == len(distances):\n",
            "            return distances[current_city, start_city], [start_city]\n",
            "        \n",
            "        min_distance = float('inf')\n",
            "        best_path = []\n",
            "        \n",
            "        for next_city in range(len(distances)):\n",
            "            if next_city not in visited:\n",
            "                new_visited = visited.copy()\n",
            "                new_visited.add(next_city)\n",
            "                \n",
            "                distance, path = tsp_helper(next_city, new_visited)\n",
            "                distance += distances[current_city, next_city]\n",
            "                \n",
            "                if distance < min_distance:\n",
            "                    min_distance = distance\n",
            "                    best_path = [next_city] + path\n",
            "        \n",
            "        return min_distance, best_path\n",
            "    \n",
            "    _, path = tsp_helper(start_city, {start_city})\n",
            "    return [start_city] + path\n",
            "------------------------------------------------------\n",
            "Score        : None\n",
            "Sample time  : 8.027850210666656\n",
            "Evaluate time: 0.47858476638793945\n",
            "Sample orders: 4\n",
            "======================================================\n",
            "\n",
            "\n",
            "section1: 路径长度 = 9050.69, 无最优参考, 时间 = 0.527s\n",
            "平均路径长度: 9050.69, 平均运行时间: 0.527s\n",
            "================= Evaluated Function =================\n",
            "def tsp_priority(current_path: list[int], unvisited: list[int], distances: np.ndarray) -> tuple[int, int]:\n",
            "    \"\"\"\n",
            "    选择 (city_to_insert, insert_position)，使新增距离增量最小。\n",
            "    insert_position 表示要把 city 插到 current_path 的哪个索引之前。\n",
            "    \"\"\"\n",
            "    best_delta = float(\"inf\")\n",
            "    best_city, best_position = unvisited[0], 1\n",
            "\n",
            "    path_len = len(current_path)\n",
            "    for candidate_city in unvisited:\n",
            "        best_delta_candidate = float(\"inf\")\n",
            "        best_position_candidate = -1\n",
            "        for idx in range(path_len):\n",
            "            i = current_path[idx]\n",
            "            j = current_path[(idx + 1) % path_len]\n",
            "            delta = (\n",
            "                distances[i, candidate_city]\n",
            "                + distances[candidate_city, j]\n",
            "                - distances[i, j]\n",
            "            )\n",
            "            if delta < best_delta_candidate:\n",
            "                best_delta_candidate = delta\n",
            "                best_position_candidate = idx + 1\n",
            "        \n",
            "        if best_delta_candidate < best_delta:\n",
            "            best_delta = best_delta_candidate\n",
            "            best_city = candidate_city\n",
            "            best_position = best_position_candidate\n",
            "\n",
            "    return best_city, best_position\n",
            "------------------------------------------------------\n",
            "Score        : -9050.693986415012\n",
            "Sample time  : 8.027850210666656\n",
            "Evaluate time: 0.8076298236846924\n",
            "Sample orders: 5\n",
            "======================================================\n",
            "\n",
            "\n"
          ]
        },
        {
          "output_type": "stream",
          "name": "stderr",
          "text": [
            "INFO:httpx:HTTP Request: POST https://api.bltcy.ai/v1/chat/completions \"HTTP/1.1 200 OK\"\n"
          ]
        },
        {
          "output_type": "stream",
          "name": "stdout",
          "text": [
            "pre_response ChatCompletion(id='chatcmpl-BPWpKVMCsk1FxSWlXR0oCoEgCsUI2', choices=[Choice(finish_reason='stop', index=0, logprobs=None, message=ChatCompletionMessage(content='The current heuristic approach for solving the TSP problem involves selecting the best city to insert into the current path at the position that minimizes the increase in distance. This is done by evaluating the delta value for each possible insertion and selecting the city and position that result in the smallest increase in distance.\\n\\nTo optimize this algorithm, we can follow a structured approach with the following phases:\\n\\n1. Initialization: Start with an initial path (possibly a randomly generated one) and a list of unvisited cities.\\n2. Iterative Improvement: Continuously evaluate different city insertion options to minimize the increase in distance. This phase involves selecting the best city and position for insertion based on the calculated delta values.\\n3. Termination: Stop the algorithm when a certain condition is met, such as visiting all cities or reaching a predetermined number of iterations.\\n\\nSome potential pitfalls and limitations of the current approach include:\\n- Limited exploration: The algorithm may get stuck in local minima and fail to explore other potentially better solutions.\\n- Computational complexity: As the number of cities increases, the computation time may become prohibitive due to the nested loops for delta calculation.\\n\\nWays to improve the algorithm using control structures like loops, recursion, and conditionals include:\\n- Implementing a loop to iterate through different insertion options multiple times to explore a larger solution space.\\n- Using recursion to backtrack and explore different city insertion sequences.\\n- Adding conditionals to dynamically adjust parameters like the exploration range or termination criteria based on the problem instance.\\n\\nBy structuring the algorithm with clear phases, addressing potential pitfalls, and incorporating control structures for flexibility and adaptability, we can enhance the efficiency and effectiveness of the TSP heuristic approach.', refusal=None, role='assistant', annotations=None, audio=None, function_call=None, tool_calls=None))], created=1745424086, model='gpt-3.5-turbo-0125', object='chat.completion', service_tier=None, system_fingerprint='fp_0165350fbb', usage=CompletionUsage(completion_tokens=334, prompt_tokens=388, total_tokens=722, completion_tokens_details=None, prompt_tokens_details=None))\n"
          ]
        },
        {
          "output_type": "stream",
          "name": "stderr",
          "text": [
            "INFO:httpx:HTTP Request: POST https://api.bltcy.ai/v1/chat/completions \"HTTP/1.1 200 OK\"\n"
          ]
        },
        {
          "output_type": "stream",
          "name": "stdout",
          "text": [
            "response ChatCompletion(id='chatcmpl-BPWpNhI8VcEtsBPSIJuX4Ysi4RNR7', choices=[Choice(finish_reason='stop', index=0, logprobs=None, message=ChatCompletionMessage(content='```python\\ndef tsp_priority_v2(current_path: list[int], unvisited: list[int], distances: np.ndarray, max_iterations: int = 1000) -> tuple[int, int]:\\n    # Initialization\\n    best_delta = float(\"inf\")\\n    best_city, best_position = unvisited[0], 1\\n    iterations = 0\\n\\n    # Iterative Improvement\\n    while iterations < max_iterations:\\n        path_len = len(current_path)\\n        for candidate_city in unvisited:\\n            for idx in range(path_len):\\n                i = current_path[idx]\\n                j = current_path[(idx + 1) % path_len]\\n                delta = distances[i, candidate_city] + distances[candidate_city, j] - distances[i, j]\\n                if delta < best_delta:\\n                    best_delta = delta\\n                    best_city = candidate_city\\n                    best_position = idx + 1\\n\\n        # Update current_path with best insertion\\n        current_path.insert(best_position, best_city)\\n        unvisited.remove(best_city)\\n        \\n        iterations += 1\\n\\n    return best_city, best_position\\n```', refusal=None, role='assistant', annotations=None, audio=None, function_call=None, tool_calls=None))], created=1745424089, model='gpt-3.5-turbo-0125', object='chat.completion', service_tier=None, system_fingerprint='fp_0165350fbb', usage=CompletionUsage(completion_tokens=226, prompt_tokens=698, total_tokens=924, completion_tokens_details=None, prompt_tokens_details=None))\n"
          ]
        },
        {
          "output_type": "stream",
          "name": "stderr",
          "text": [
            "INFO:httpx:HTTP Request: POST https://api.bltcy.ai/v1/chat/completions \"HTTP/1.1 200 OK\"\n"
          ]
        },
        {
          "output_type": "stream",
          "name": "stdout",
          "text": [
            "pre_response ChatCompletion(id='chatcmpl-BPWpPv4oGh4tcqAOvT9WrmEri4qDA', choices=[Choice(finish_reason='stop', index=0, logprobs=None, message=ChatCompletionMessage(content='The current heuristic approach for solving the TSP problem follows a simple strategy of selecting the city to insert and the position to insert it in a way that minimizes the increase in total distance. This approach involves iterating over all unvisited cities and all edges in the current path to calculate the distance increment and then selecting the city and position that result in the smallest increment.\\n\\nTo optimize this algorithm, we can break down the process into structured phases:\\n\\n1. Initialization:\\n   - Initialize the current path with the starting city.\\n   - Generate a list of unvisited cities.\\n   - Set up the distance matrix between all cities.\\n\\n2. Iterative Improvement:\\n   - Iterate over each unvisited city and each edge in the current path.\\n   - Calculate the distance increment for inserting the city at each position.\\n   - Update the best city and position if a smaller increment is found.\\n\\n3. Termination:\\n   - Repeat the iterative improvement until all cities are visited.\\n   - Terminate when all cities are included in the path.\\n\\nPotential pitfalls and limitations of the current approach include:\\n- The algorithm may get stuck in a local minimum if the initial choices lead to suboptimal solutions.\\n- The complexity increases as more cities are visited, leading to longer computation times.\\n- The heuristic may not always lead to the optimal TSP solution due to its greedy nature.\\n\\nTo improve the algorithm, we can consider:\\n- Implementing a loop to iteratively improve the solution until convergence.\\n- Incorporating a condition to check for termination when all cities are visited.\\n- Adding a recursive approach to explore different solutions and potentially escape local minima.\\n- Introducing randomness to the heuristic to explore a wider solution space and avoid getting stuck in local optima.', refusal=None, role='assistant', annotations=None, audio=None, function_call=None, tool_calls=None))], created=1745424091, model='gpt-3.5-turbo-0125', object='chat.completion', service_tier=None, system_fingerprint='fp_0165350fbb', usage=CompletionUsage(completion_tokens=347, prompt_tokens=388, total_tokens=735, completion_tokens_details=None, prompt_tokens_details=None))\n"
          ]
        },
        {
          "output_type": "stream",
          "name": "stderr",
          "text": [
            "INFO:httpx:HTTP Request: POST https://api.bltcy.ai/v1/chat/completions \"HTTP/1.1 200 OK\"\n"
          ]
        },
        {
          "output_type": "stream",
          "name": "stdout",
          "text": [
            "response ChatCompletion(id='chatcmpl-BPWpSTd2HkOqkFrjOi6XDkg1rW0pH', choices=[Choice(finish_reason='stop', index=0, logprobs=None, message=ChatCompletionMessage(content='```python\\ndef tsp_priority_v2(start_city: int, cities: list[int], distances: np.ndarray) -> list[int]:\\n    def calculate_distance(path: list[int]) -> int:\\n        total_distance = 0\\n        for i in range(len(path)):\\n            total_distance += distances[path[i - 1], path[i]]\\n        return total_distance\\n\\n    current_path = [start_city]\\n    unvisited = cities.copy()\\n    unvisited.remove(start_city)\\n\\n    while unvisited:\\n        best_delta = float(\"inf\")\\n        best_city = unvisited[0]\\n        best_position = 1\\n\\n        for candidate_city in unvisited:\\n            for idx in range(len(current_path)):\\n                i = current_path[idx]\\n                j = current_path[(idx + 1) % len(current_path)]\\n                delta = (distances[i, candidate_city] + distances[candidate_city, j] - distances[i, j])\\n                if delta < best_delta:\\n                    best_delta = delta\\n                    best_city = candidate_city\\n                    best_position = idx + 1\\n\\n        current_path.insert(best_position, best_city)\\n        unvisited.remove(best_city)\\n\\n    return current_path\\n\\n# Example usage\\nstart_city = 0\\ncities = [1, 2, 3, 4]\\ndistances = np.array([[0, 1, 2, 3],\\n                      [1, 0, 4, 5],\\n                      [2, 4, 0, 6],\\n                      [3, 5, 6, 0]])\\n\\noptimized_path = tsp_priority_v2(start_city, cities, distances)\\nprint(optimized_path)\\n```', refusal=None, role='assistant', annotations=None, audio=None, function_call=None, tool_calls=None))], created=1745424094, model='gpt-3.5-turbo-0125', object='chat.completion', service_tier=None, system_fingerprint='fp_0165350fbb', usage=CompletionUsage(completion_tokens=340, prompt_tokens=711, total_tokens=1051, completion_tokens_details=None, prompt_tokens_details=None))\n"
          ]
        },
        {
          "output_type": "stream",
          "name": "stderr",
          "text": [
            "INFO:httpx:HTTP Request: POST https://api.bltcy.ai/v1/chat/completions \"HTTP/1.1 200 OK\"\n"
          ]
        },
        {
          "output_type": "stream",
          "name": "stdout",
          "text": [
            "pre_response ChatCompletion(id='chatcmpl-BPWpWo10V3iri4tzfNgxRtr7h82OY', choices=[Choice(finish_reason='stop', index=0, logprobs=None, message=ChatCompletionMessage(content=\"The current heuristic approach for solving the TSP problem involves selecting the next city to visit based on the smallest increase in distance when inserted at a particular position in the current path. This approach iteratively selects the best city to visit next until all cities have been visited.\\n\\nTo optimize this algorithm, we can follow a structured approach:\\n\\n1. Initialization:\\n   - Initialize the current path with the starting city.\\n   - Initialize the unvisited cities list.\\n   - Calculate the distances between all cities and store them in a matrix.\\n\\n2. Iterative Improvement:\\n   - In each iteration, select the city and its insertion position that minimizes the increase in distance.\\n   - Update the current path with the selected city inserted at the chosen position.\\n   - Remove the selected city from the unvisited cities list.\\n   - Continue iterating until all cities have been visited.\\n\\n3. Termination:\\n   - Terminate the algorithm when all cities have been visited and the path is complete.\\n\\nPotential pitfalls and limitations of the current approach include:\\n- Limited exploration: The algorithm may get stuck in a local minimum, leading to suboptimal solutions.\\n- Computational complexity: As the number of cities increases, the algorithm's time complexity may become prohibitive.\\n\\nTo improve the algorithm, we can consider the following modifications:\\n- Implement a loop to iteratively improve the current path until a termination condition is met.\\n- Introduce a stopping criterion to prevent the algorithm from running indefinitely.\\n- Utilize recursion to explore different paths and backtrack when necessary to find the optimal solution.\\n- Introduce conditionals to handle edge cases and optimize path selection.\\n\\nBy incorporating these improvements and refining the algorithm's logic, we can enhance its efficiency and effectiveness in solving the TSP problem.\", refusal=None, role='assistant', annotations=None, audio=None, function_call=None, tool_calls=None))], created=1745424098, model='gpt-3.5-turbo-0125', object='chat.completion', service_tier=None, system_fingerprint='fp_0165350fbb', usage=CompletionUsage(completion_tokens=347, prompt_tokens=388, total_tokens=735, completion_tokens_details=None, prompt_tokens_details=None))\n"
          ]
        },
        {
          "output_type": "stream",
          "name": "stderr",
          "text": [
            "INFO:httpx:HTTP Request: POST https://api.bltcy.ai/v1/chat/completions \"HTTP/1.1 200 OK\"\n"
          ]
        },
        {
          "output_type": "stream",
          "name": "stdout",
          "text": [
            "response ChatCompletion(id='chatcmpl-BPWpZZu5yRYzGZst8fRrpOM7kvMJL', choices=[Choice(finish_reason='stop', index=0, logprobs=None, message=ChatCompletionMessage(content='import numpy as np\\n\\ndef tsp_priority_optimized(start_city: int, all_cities: list[int], distances: np.ndarray) -> list[int]:\\n    current_path = [start_city]\\n    unvisited = all_cities.copy()\\n    unvisited.remove(start_city)\\n\\n    while unvisited:\\n        best_delta = float(\"inf\")\\n        best_city, best_position = unvisited[0], 1\\n\\n        for candidate_city in unvisited:\\n            for idx in range(len(current_path)):\\n                i = current_path[idx]\\n                j = current_path[(idx + 1) % len(current_path)]\\n                delta = distances[i, candidate_city] + distances[candidate_city, j] - distances[i, j]\\n                if delta < best_delta:\\n                    best_delta = delta\\n                    best_city = candidate_city\\n                    best_position = idx + 1\\n\\n        current_path.insert(best_position, best_city)\\n        unvisited.remove(best_city)\\n\\n    return current_path', refusal=None, role='assistant', annotations=None, audio=None, function_call=None, tool_calls=None))], created=1745424101, model='gpt-3.5-turbo-0125', object='chat.completion', service_tier=None, system_fingerprint='fp_0165350fbb', usage=CompletionUsage(completion_tokens=196, prompt_tokens=711, total_tokens=907, completion_tokens_details=None, prompt_tokens_details=None))\n"
          ]
        },
        {
          "output_type": "stream",
          "name": "stderr",
          "text": [
            "INFO:httpx:HTTP Request: POST https://api.bltcy.ai/v1/chat/completions \"HTTP/1.1 200 OK\"\n"
          ]
        },
        {
          "output_type": "stream",
          "name": "stdout",
          "text": [
            "pre_response ChatCompletion(id='chatcmpl-BPWpcRqMwQPXuiRdChW5lQdONBx6M', choices=[Choice(finish_reason='stop', index=0, logprobs=None, message=ChatCompletionMessage(content='The current heuristic approach for solving the TSP problem involves selecting the city and the position to insert it into the current path to minimize the increase in distance. The algorithm iterates through all possible city insertions and calculates the change in distance to find the best city and position.\\n\\nTo optimize this algorithm, we can follow a structured approach:\\n\\n1. Initialization:\\n   - Initialize the current_path, unvisited cities, and distance matrix.\\n   - Set the best_delta to infinity and the best_city and best_position to default values.\\n\\n2. Iterative Improvement:\\n   - Iterate through each unvisited city to consider as a candidate for insertion.\\n   - For each candidate city, calculate the delta in distance by inserting it at every possible position along the current path.\\n   - Update the best_city, best_position, and best_delta if a better insertion is found.\\n\\n3. Termination:\\n   - Return the best_city and best_position once all candidates have been considered.\\n\\nPotential pitfalls and limitations of the current approach include:\\n- Inefficiency: The algorithm may be inefficient for large numbers of unvisited cities due to the nested loops.\\n- Suboptimal solutions: The algorithm may not always find the globally optimal solution due to its greedy nature.\\n\\nTo improve the algorithm, we can consider:\\n- Implementing a more efficient search strategy, such as using loops to iterate through unvisited cities more efficiently.\\n- Adding conditionals to skip unnecessary calculations for cities that are unlikely to improve the solution significantly.\\n- Using recursion to explore different insertion paths, potentially leading to better solutions.\\n- Implementing a termination condition based on a predefined number of iterations or a small improvement threshold to prevent unnecessary computation.', refusal=None, role='assistant', annotations=None, audio=None, function_call=None, tool_calls=None))], created=1745424104, model='gpt-3.5-turbo-0125', object='chat.completion', service_tier=None, system_fingerprint='fp_0165350fbb', usage=CompletionUsage(completion_tokens=335, prompt_tokens=388, total_tokens=723, completion_tokens_details=None, prompt_tokens_details=None))\n"
          ]
        },
        {
          "output_type": "stream",
          "name": "stderr",
          "text": [
            "INFO:httpx:HTTP Request: POST https://api.bltcy.ai/v1/chat/completions \"HTTP/1.1 200 OK\"\n"
          ]
        },
        {
          "output_type": "stream",
          "name": "stdout",
          "text": [
            "response ChatCompletion(id='chatcmpl-BPWpfdr2SKYeb5WSJVUJopLc8bYz3', choices=[Choice(finish_reason='stop', index=0, logprobs=None, message=ChatCompletionMessage(content='```python\\ndef tsp_priority_v2(current_path: list[int], unvisited: list[int], distances: np.ndarray) -> tuple[int, int]:\\n    best_delta = float(\"inf\")\\n    best_city, best_position = unvisited[0], 1\\n\\n    path_len = len(current_path)\\n    \\n    for candidate_city in unvisited:\\n        if best_delta == 0:  # Skip unnecessary calculations\\n            break\\n        \\n        for idx in range(path_len):\\n            i = current_path[idx]\\n            j = current_path[(idx + 1) % path_len]\\n            \\n            if distances[i, j] >= best_delta:  # Skip if distance is already greater than best_delta\\n                continue\\n            \\n            delta = distances[i, candidate_city] + distances[candidate_city, j] - distances[i, j]\\n            \\n            if delta < best_delta:\\n                best_delta = delta\\n                best_city = candidate_city\\n                best_position = idx + 1\\n\\n    return best_city, best_position\\n```', refusal=None, role='assistant', annotations=None, audio=None, function_call=None, tool_calls=None))], created=1745424107, model='gpt-3.5-turbo-0125', object='chat.completion', service_tier=None, system_fingerprint='fp_0165350fbb', usage=CompletionUsage(completion_tokens=207, prompt_tokens=699, total_tokens=906, completion_tokens_details=None, prompt_tokens_details=None))\n",
            "================= Evaluated Function =================\n",
            "def tsp_priority(current_path: list[int], unvisited: list[int], distances: np.ndarray) -> tuple[int, int]:\n",
            "    \"\"\"\n",
            "    选择 (city_to_insert, insert_position)，使新增距离增量最小。\n",
            "    insert_position 表示要把 city 插到 current_path 的哪个索引之前。\n",
            "    \"\"\"\n",
            "    # Initialization\n",
            "    best_delta = float(\"inf\")\n",
            "    best_city, best_position = unvisited[0], 1\n",
            "    iterations = 0\n",
            "\n",
            "    # Iterative Improvement\n",
            "    while iterations < max_iterations:\n",
            "        path_len = len(current_path)\n",
            "        for candidate_city in unvisited:\n",
            "            for idx in range(path_len):\n",
            "                i = current_path[idx]\n",
            "                j = current_path[(idx + 1) % path_len]\n",
            "                delta = distances[i, candidate_city] + distances[candidate_city, j] - distances[i, j]\n",
            "                if delta < best_delta:\n",
            "                    best_delta = delta\n",
            "                    best_city = candidate_city\n",
            "                    best_position = idx + 1\n",
            "\n",
            "        # Update current_path with best insertion\n",
            "        current_path.insert(best_position, best_city)\n",
            "        unvisited.remove(best_city)\n",
            "        \n",
            "        iterations += 1\n",
            "\n",
            "    return best_city, best_position\n",
            "------------------------------------------------------\n",
            "Score        : None\n",
            "Sample time  : 5.8315510749816895\n",
            "Evaluate time: 0.5081608295440674\n",
            "Sample orders: 6\n",
            "======================================================\n",
            "\n",
            "\n",
            "================= Evaluated Function =================\n",
            "def tsp_priority(current_path: list[int], unvisited: list[int], distances: np.ndarray) -> tuple[int, int]:\n",
            "    \"\"\"\n",
            "    选择 (city_to_insert, insert_position)，使新增距离增量最小。\n",
            "    insert_position 表示要把 city 插到 current_path 的哪个索引之前。\n",
            "    \"\"\"\n",
            "    def calculate_distance(path: list[int]) -> int:\n",
            "        total_distance = 0\n",
            "        for i in range(len(path)):\n",
            "            total_distance += distances[path[i - 1], path[i]]\n",
            "        return total_distance\n",
            "\n",
            "    current_path = [start_city]\n",
            "    unvisited = cities.copy()\n",
            "    unvisited.remove(start_city)\n",
            "\n",
            "    while unvisited:\n",
            "        best_delta = float(\"inf\")\n",
            "        best_city = unvisited[0]\n",
            "        best_position = 1\n",
            "\n",
            "        for candidate_city in unvisited:\n",
            "            for idx in range(len(current_path)):\n",
            "                i = current_path[idx]\n",
            "                j = current_path[(idx + 1) % len(current_path)]\n",
            "                delta = (distances[i, candidate_city] + distances[candidate_city, j] - distances[i, j])\n",
            "                if delta < best_delta:\n",
            "                    best_delta = delta\n",
            "                    best_city = candidate_city\n",
            "                    best_position = idx + 1\n",
            "\n",
            "        current_path.insert(best_position, best_city)\n",
            "        unvisited.remove(best_city)\n",
            "\n",
            "    return current_path\n",
            "------------------------------------------------------\n",
            "Score        : None\n",
            "Sample time  : 5.8315510749816895\n",
            "Evaluate time: 0.7095978260040283\n",
            "Sample orders: 7\n",
            "======================================================\n",
            "\n",
            "\n",
            "================= Evaluated Function =================\n",
            "def tsp_priority(current_path: list[int], unvisited: list[int], distances: np.ndarray) -> tuple[int, int]:\n",
            "    \"\"\"\n",
            "    选择 (city_to_insert, insert_position)，使新增距离增量最小。\n",
            "    insert_position 表示要把 city 插到 current_path 的哪个索引之前。\n",
            "    \"\"\"\n",
            "    current_path = [start_city]\n",
            "    unvisited = all_cities.copy()\n",
            "    unvisited.remove(start_city)\n",
            "\n",
            "    while unvisited:\n",
            "        best_delta = float(\"inf\")\n",
            "        best_city, best_position = unvisited[0], 1\n",
            "\n",
            "        for candidate_city in unvisited:\n",
            "            for idx in range(len(current_path)):\n",
            "                i = current_path[idx]\n",
            "                j = current_path[(idx + 1) % len(current_path)]\n",
            "                delta = distances[i, candidate_city] + distances[candidate_city, j] - distances[i, j]\n",
            "                if delta < best_delta:\n",
            "                    best_delta = delta\n",
            "                    best_city = candidate_city\n",
            "                    best_position = idx + 1\n",
            "\n",
            "        current_path.insert(best_position, best_city)\n",
            "        unvisited.remove(best_city)\n",
            "\n",
            "    return current_path\n",
            "------------------------------------------------------\n",
            "Score        : None\n",
            "Sample time  : 5.8315510749816895\n",
            "Evaluate time: 0.7223124504089355\n",
            "Sample orders: 8\n",
            "======================================================\n",
            "\n",
            "\n",
            "section1: 路径长度 = 10074.98, 无最优参考, 时间 = 0.879s\n",
            "平均路径长度: 10074.98, 平均运行时间: 0.879s\n",
            "================= Evaluated Function =================\n",
            "def tsp_priority(current_path: list[int], unvisited: list[int], distances: np.ndarray) -> tuple[int, int]:\n",
            "    \"\"\"\n",
            "    选择 (city_to_insert, insert_position)，使新增距离增量最小。\n",
            "    insert_position 表示要把 city 插到 current_path 的哪个索引之前。\n",
            "    \"\"\"\n",
            "    best_delta = float(\"inf\")\n",
            "    best_city, best_position = unvisited[0], 1\n",
            "\n",
            "    path_len = len(current_path)\n",
            "    \n",
            "    for candidate_city in unvisited:\n",
            "        if best_delta == 0:  # Skip unnecessary calculations\n",
            "            break\n",
            "        \n",
            "        for idx in range(path_len):\n",
            "            i = current_path[idx]\n",
            "            j = current_path[(idx + 1) % path_len]\n",
            "            \n",
            "            if distances[i, j] >= best_delta:  # Skip if distance is already greater than best_delta\n",
            "                continue\n",
            "            \n",
            "            delta = distances[i, candidate_city] + distances[candidate_city, j] - distances[i, j]\n",
            "            \n",
            "            if delta < best_delta:\n",
            "                best_delta = delta\n",
            "                best_city = candidate_city\n",
            "                best_position = idx + 1\n",
            "\n",
            "    return best_city, best_position\n",
            "------------------------------------------------------\n",
            "Score        : -10074.97864765608\n",
            "Sample time  : 5.8315510749816895\n",
            "Evaluate time: 1.242471694946289\n",
            "Sample orders: 9\n",
            "======================================================\n",
            "\n",
            "\n"
          ]
        },
        {
          "output_type": "stream",
          "name": "stderr",
          "text": [
            "INFO:httpx:HTTP Request: POST https://api.bltcy.ai/v1/chat/completions \"HTTP/1.1 200 OK\"\n"
          ]
        },
        {
          "output_type": "stream",
          "name": "stdout",
          "text": [
            "pre_response ChatCompletion(id='chatcmpl-BPWpkGavs3FtcVRMr18fRWN1id1o5', choices=[Choice(finish_reason='stop', index=0, logprobs=None, message=ChatCompletionMessage(content=\"The current heuristic approach for solving the TSP problem follows a priority-based insertion strategy to determine the next city to insert into the current path. The algorithm iterates through the list of unvisited cities and calculates the incremental distance that would result from inserting each city at various positions along the current path. The city and position that yield the minimum incremental distance are selected as the best candidates for insertion.\\n\\nTo optimize this algorithm, we can outline the following structured steps:\\n\\n1. Initialization:\\n   - Initialize the current_path with the starting city.\\n   - Determine the list of unvisited cities and precompute the distances between all city pairs.\\n\\n2. Iterative Improvement:\\n   - Use the priority-based insertion strategy to select the next city to insert into the path.\\n   - Calculate the incremental distance for each candidate city at different insertion positions.\\n   - Select the city and position that minimize the incremental distance.\\n   - Update the current_path by inserting the selected city at the chosen position.\\n\\n3. Termination:\\n   - Repeat the iterative improvement step until all cities are visited and the path is complete.\\n   - Terminate when all cities have been visited, and the path forms a closed loop returning to the starting city.\\n\\nPotential pitfalls and limitations of the current approach include:\\n- High time complexity due to exhaustive pairwise distance calculations.\\n- Limited exploration of multiple possible insertion positions for each city.\\n- Lack of mechanisms to handle local minima and stagnant iterations.\\n\\nTo improve the algorithm:\\n- Implement a loop structure to efficiently iterate through unvisited cities and potential insertion positions.\\n- Use recursion to explore deeper levels of city permutations for more optimal path selections.\\n- Introduce conditionals to handle edge cases such as early termination or path reversal when stuck in a local minimum.\\n\\nBy incorporating these enhancements and refining the algorithm's logic with better control structures, we can enhance the efficiency, accuracy, and robustness of the TSP heuristic solution.\", refusal=None, role='assistant', annotations=None, audio=None, function_call=None, tool_calls=None))], created=1745424112, model='gpt-3.5-turbo-0125', object='chat.completion', service_tier=None, system_fingerprint='fp_0165350fbb', usage=CompletionUsage(completion_tokens=381, prompt_tokens=388, total_tokens=769, completion_tokens_details=None, prompt_tokens_details=None))\n"
          ]
        },
        {
          "output_type": "stream",
          "name": "stderr",
          "text": [
            "INFO:httpx:HTTP Request: POST https://api.bltcy.ai/v1/chat/completions \"HTTP/1.1 200 OK\"\n"
          ]
        },
        {
          "output_type": "stream",
          "name": "stdout",
          "text": [
            "response ChatCompletion(id='chatcmpl-BPWpoxmdVwdAYwP8IT63tAKSAMyxu', choices=[Choice(finish_reason='stop', index=0, logprobs=None, message=ChatCompletionMessage(content='```python\\ndef tsp_priority_v2(start_city: int, cities: list[int], distances: np.ndarray) -> list[int]:\\n    def calculate_total_distance(path: list[int]) -> float:\\n        total_distance = 0.0\\n        for i in range(len(path)):\\n            total_distance += distances[path[i-1], path[i]]  # Distance from last city to current city\\n        return total_distance\\n\\n    def tsp_recursive(current_path: list[int], unvisited: list[int]) -> list[int]:\\n        if not unvisited:\\n            return current_path\\n\\n        best_path = []\\n        min_distance = float(\"inf\")\\n        \\n        for city in unvisited:\\n            for i in range(len(current_path)):\\n                new_path = current_path[:i] + [city] + current_path[i:]\\n                new_distance = calculate_total_distance(new_path)\\n                if new_distance < min_distance:\\n                    new_unvisited = unvisited.copy()\\n                    new_unvisited.remove(city)\\n                    potential_path = tsp_recursive(new_path, new_unvisited)\\n                    potential_distance = calculate_total_distance(potential_path)\\n                    if potential_distance < min_distance:\\n                        best_path = potential_path\\n                        min_distance = potential_distance\\n        \\n        return best_path\\n\\n    initial_path = [start_city]\\n    remaining_cities = set(cities) - {start_city}\\n    final_path = tsp_recursive(initial_path, list(remaining_cities))\\n\\n    return final_path\\n```', refusal=None, role='assistant', annotations=None, audio=None, function_call=None, tool_calls=None))], created=1745424116, model='gpt-3.5-turbo-0125', object='chat.completion', service_tier=None, system_fingerprint='fp_0165350fbb', usage=CompletionUsage(completion_tokens=293, prompt_tokens=745, total_tokens=1038, completion_tokens_details=None, prompt_tokens_details=None))\n"
          ]
        },
        {
          "output_type": "stream",
          "name": "stderr",
          "text": [
            "INFO:httpx:HTTP Request: POST https://api.bltcy.ai/v1/chat/completions \"HTTP/1.1 200 OK\"\n"
          ]
        },
        {
          "output_type": "stream",
          "name": "stdout",
          "text": [
            "pre_response ChatCompletion(id='chatcmpl-BPWprbVwd2W64otBHPBFB9fKbfBF9', choices=[Choice(finish_reason='stop', index=0, logprobs=None, message=ChatCompletionMessage(content=\"The current heuristic approach for solving the TSP problem follows a greedy strategy where the city to insert and the position to insert it are determined based on minimizing the incremental distance of the current path. This approach aims to iteratively build a solution by selecting the city with the minimum distance increase when inserted at different positions along the current path.\\n\\nTo optimize this heuristic algorithm, we can break down the process into the following structured phases:\\n1. Initialization:\\n   - Start with an initial path containing a subset of cities.\\n   - Initialize the unvisited cities list and the distance matrix.\\n   \\n2. Iterative Improvement:\\n   - Iterate over the unvisited cities and explore possible insertion positions in the current path.\\n   - Calculate the delta (distance increase) for each insertion possibility.\\n   - Update the best city and position based on the minimum delta.\\n   - Repeat this process until all cities are visited.\\n\\n3. Termination:\\n   - Return the best city and position for insertion to update the current path.\\n\\nPotential pitfalls and limitations of this heuristic approach include:\\n- Greedy algorithms may get stuck in local optima and may not always lead to the optimal solution.\\n- The efficiency of the algorithm heavily relies on the order of city insertion and position selection.\\n- The heuristic may not guarantee an optimal solution due to its greedy nature.\\n- As the number of cities increases, the algorithm's complexity may increase significantly.\\n\\nTo improve the algorithm, we can consider:\\n- Implementing a loop to iterate over all unvisited cities efficiently.\\n- Introducing recursion to explore different insertion possibilities recursively.\\n- Using conditionals to handle edge cases and optimize decision-making during path construction.\\n- Incorporating additional heuristics or metaheuristic techniques like simulated annealing or genetic algorithms for better exploration of the solution space.\\n\\nBy enhancing the algorithm with these control structures and strategies, we can potentially achieve better performance and improve the quality of solutions for the TSP problem.\", refusal=None, role='assistant', annotations=None, audio=None, function_call=None, tool_calls=None))], created=1745424119, model='gpt-3.5-turbo-0125', object='chat.completion', service_tier=None, system_fingerprint='fp_0165350fbb', usage=CompletionUsage(completion_tokens=385, prompt_tokens=388, total_tokens=773, completion_tokens_details=None, prompt_tokens_details=None))\n"
          ]
        },
        {
          "output_type": "stream",
          "name": "stderr",
          "text": [
            "INFO:httpx:HTTP Request: POST https://api.bltcy.ai/v1/chat/completions \"HTTP/1.1 200 OK\"\n"
          ]
        },
        {
          "output_type": "stream",
          "name": "stdout",
          "text": [
            "response ChatCompletion(id='chatcmpl-BPWpwfQv37mgVlv6JGgaED75pzIcE', choices=[Choice(finish_reason='stop', index=0, logprobs=None, message=ChatCompletionMessage(content='```python\\ndef tsp_priority_v2(current_path: list[int], unvisited: list[int], distances: np.ndarray) -> tuple[int, int]:\\n    best_delta = float(\"inf\")\\n    best_city, best_position = unvisited[0], 1\\n\\n    path_len = len(current_path)\\n    for candidate_city in unvisited:\\n        for idx in range(path_len):\\n            i = current_path[idx]\\n            j = current_path[(idx + 1) % path_len]\\n            delta = distances[i, candidate_city] + distances[candidate_city, j] - distances[i, j]\\n            if delta < best_delta:\\n                best_delta = delta\\n                best_city = candidate_city\\n                best_position = idx + 1\\n\\n    return best_city, best_position\\n```', refusal=None, role='assistant', annotations=None, audio=None, function_call=None, tool_calls=None))], created=1745424124, model='gpt-3.5-turbo-0125', object='chat.completion', service_tier=None, system_fingerprint='fp_0165350fbb', usage=CompletionUsage(completion_tokens=161, prompt_tokens=749, total_tokens=910, completion_tokens_details=None, prompt_tokens_details=None))\n"
          ]
        },
        {
          "output_type": "stream",
          "name": "stderr",
          "text": [
            "INFO:httpx:HTTP Request: POST https://api.bltcy.ai/v1/chat/completions \"HTTP/1.1 200 OK\"\n"
          ]
        },
        {
          "output_type": "stream",
          "name": "stdout",
          "text": [
            "pre_response ChatCompletion(id='chatcmpl-BPWpyIlIkX6Y2Dpl8TdcCsnkffRqQ', choices=[Choice(finish_reason='stop', index=0, logprobs=None, message=ChatCompletionMessage(content='The current heuristic approach for solving the TSP problem is based on a priority rule that determines the best city to insert into the current path in order to minimize the total distance travelled. The algorithm iterates over each unvisited city and calculates the impact of inserting the city at each possible position along the current path.\\n\\nIn order to optimize this approach, we can break down the algorithm into the following structured phases:\\n\\n1. Initialization:\\n   - Initialize the current path with a starting city.\\n   - Initialize the unvisited cities list.\\n   - Initialize the distance matrix.\\n\\n2. Iterative Improvement:\\n   - Iterate over each unvisited city and calculate the delta distance for inserting the city at each position along the current path.\\n   - Update the best city and position based on the minimum delta distance calculated.\\n   - Repeat this process for all unvisited cities.\\n\\n3. Termination:\\n   - Once all unvisited cities have been evaluated, return the best city and insert position.\\n\\nPotential pitfalls and limitations of this approach include:\\n- High time complexity, as the algorithm needs to iterate over all unvisited cities for each insertion position.\\n- Limited scope for exploring different insertion strategies.\\n- Lack of diversification in the search process, leading to suboptimal solutions.\\n\\nTo improve the algorithm, we can consider the following strategies:\\n- Implement a loop structure to iterate through different insertion strategies, such as nearest neighbor insertion or randomized insertion.\\n- Introduce recursion to explore different paths and compare their total distances.\\n- Use conditionals to dynamically adjust the insertion strategy based on the problem instance or iteration count.\\n- Employ metaheuristic techniques like simulated annealing or genetic algorithms to improve the global search capability and avoid getting stuck in local optima.\\n\\nBy enhancing the algorithm with these control structures, we can address the limitations of the current heuristic approach and potentially achieve better solutions for the TSP problem.', refusal=None, role='assistant', annotations=None, audio=None, function_call=None, tool_calls=None))], created=1745424126, model='gpt-3.5-turbo-0125', object='chat.completion', service_tier=None, system_fingerprint='fp_0165350fbb', usage=CompletionUsage(completion_tokens=374, prompt_tokens=388, total_tokens=762, completion_tokens_details=None, prompt_tokens_details=None))\n"
          ]
        },
        {
          "output_type": "stream",
          "name": "stderr",
          "text": [
            "INFO:httpx:HTTP Request: POST https://api.bltcy.ai/v1/chat/completions \"HTTP/1.1 200 OK\"\n"
          ]
        },
        {
          "output_type": "stream",
          "name": "stdout",
          "text": [
            "response ChatCompletion(id='chatcmpl-BPWq3K4UD2ixfOmbaBKIJtWq95NhM', choices=[Choice(finish_reason='stop', index=0, logprobs=None, message=ChatCompletionMessage(content='```python\\nimport numpy as np\\nimport time\\n\\ndef tsp_priority_v2(current_path: list[int], unvisited: list[int], distances: np.ndarray) -> tuple[int, int]:\\n    best_delta = float(\"inf\")\\n    best_city, best_position = unvisited[0], 1\\n\\n    path_len = len(current_path)\\n    for candidate_city in unvisited:\\n        for idx in range(path_len):\\n            i = current_path[idx]\\n            j = current_path[(idx + 1) % path_len]\\n            delta = (\\n                distances[i, candidate_city]\\n                + distances[candidate_city, j]\\n                - distances[i, j]\\n            )\\n            if delta < best_delta:\\n                best_delta = delta\\n                best_city = candidate_city\\n                best_position = idx + 1\\n\\n    return best_city, best_position\\n```', refusal=None, role='assistant', annotations=None, audio=None, function_call=None, tool_calls=None))], created=1745424131, model='gpt-3.5-turbo-0125', object='chat.completion', service_tier=None, system_fingerprint='fp_0165350fbb', usage=CompletionUsage(completion_tokens=175, prompt_tokens=738, total_tokens=913, completion_tokens_details=None, prompt_tokens_details=None))\n"
          ]
        },
        {
          "output_type": "stream",
          "name": "stderr",
          "text": [
            "INFO:httpx:HTTP Request: POST https://api.bltcy.ai/v1/chat/completions \"HTTP/1.1 200 OK\"\n"
          ]
        },
        {
          "output_type": "stream",
          "name": "stdout",
          "text": [
            "pre_response ChatCompletion(id='chatcmpl-BPWq5TzsGrD5ovJRkx1qKWwK1ieHt', choices=[Choice(finish_reason='stop', index=0, logprobs=None, message=ChatCompletionMessage(content='The current heuristic approach for solving the TSP problem, as seen in the given `tsp_priority_v0` function, utilizes a priority-based strategy to determine which city to insert next into the current path in order to minimize the increase in distance. However, the implementation lacks a clear structure and detailed explanation of the optimization logic.\\n\\nTo optimize the algorithm, we can first define clear phases such as initialization, iterative improvement, and termination. In the initialization phase, necessary data structures are set up (e.g., current_path, unvisited cities, distance matrix). Iterative improvement involves iteratively selecting the best city to insert into the path based on the priority criterion until all cities are visited. Termination occurs when all cities have been visited and the optimal path has been found.\\n\\nOne potential pitfall of the current approach is the lack of consideration for the stopping condition. The algorithm should have a termination criterion to prevent infinite looping. Additionally, the algorithm could be improved by introducing loops to iterate over all unvisited cities and potential insertion positions, and conditionals to check if the newly inserted city improves the total distance.\\n\\nTo enhance the algorithm, we can introduce more efficient data structures (e.g., priority queues for city selection), utilize loops for efficient traversal over cities and positions, implement recursion for backtracking in case of incorrect insertions, and introduce conditionals for early termination when a suboptimal path is identified. These improvements can lead to a more structured, efficient, and reliable heuristic solution for the TSP problem.', refusal=None, role='assistant', annotations=None, audio=None, function_call=None, tool_calls=None))], created=1745424133, model='gpt-3.5-turbo-0125', object='chat.completion', service_tier=None, system_fingerprint='fp_0165350fbb', usage=CompletionUsage(completion_tokens=303, prompt_tokens=388, total_tokens=691, completion_tokens_details=None, prompt_tokens_details=None))\n"
          ]
        },
        {
          "output_type": "stream",
          "name": "stderr",
          "text": [
            "INFO:httpx:HTTP Request: POST https://api.bltcy.ai/v1/chat/completions \"HTTP/1.1 200 OK\"\n"
          ]
        },
        {
          "output_type": "stream",
          "name": "stdout",
          "text": [
            "response ChatCompletion(id='chatcmpl-BPWqA8APWZPYb0yGiuXpHV35YIQ2e', choices=[Choice(finish_reason='stop', index=0, logprobs=None, message=ChatCompletionMessage(content='```python\\nimport numpy as np\\n\\ndef tsp_priority_v2(distances: np.ndarray) -> tuple[int, list[int]]:\\n    def calculate_cost(path: list[int]) -> int:\\n        cost = 0\\n        for i in range(len(path)):\\n            cost += distances[path[i - 1]][path[i]]\\n        return cost\\n\\n    def find_best_insertion(candidate_city: int, current_path: list[int]) -> tuple[int, int]:\\n        best_cost = float(\"inf\")\\n        best_position = 0\\n\\n        for idx in range(1, len(current_path)):\\n            new_path = current_path[:idx] + [candidate_city] + current_path[idx:]\\n            new_cost = calculate_cost(new_path)\\n            if new_cost < best_cost:\\n                best_cost = new_cost\\n                best_position = idx\\n\\n        return best_cost, best_position\\n\\n    unvisited_cities = list(range(1, len(distances)))\\n    current_path = [0]\\n    total_cost = 0\\n\\n    while unvisited_cities:\\n        best_city, best_path_cost, best_position = -1, float(\"inf\"), 0\\n        for candidate_city in unvisited_cities:\\n            cost, position = find_best_insertion(candidate_city, current_path)\\n            if cost < best_path_cost:\\n                best_city = candidate_city\\n                best_path_cost = cost\\n                best_position = position\\n\\n        current_path.insert(best_position, best_city)\\n        unvisited_cities.remove(best_city)\\n        total_cost = best_path_cost\\n\\n    total_cost += distances[current_path[-1]][0]\\n\\n    return total_cost, current_path\\n```', refusal=None, role='assistant', annotations=None, audio=None, function_call=None, tool_calls=None))], created=1745424138, model='gpt-3.5-turbo-0125', object='chat.completion', service_tier=None, system_fingerprint='fp_0165350fbb', usage=CompletionUsage(completion_tokens=334, prompt_tokens=667, total_tokens=1001, completion_tokens_details=None, prompt_tokens_details=None))\n",
            "================= Evaluated Function =================\n",
            "def tsp_priority(current_path: list[int], unvisited: list[int], distances: np.ndarray) -> tuple[int, int]:\n",
            "    \"\"\"\n",
            "    选择 (city_to_insert, insert_position)，使新增距离增量最小。\n",
            "    insert_position 表示要把 city 插到 current_path 的哪个索引之前。\n",
            "    \"\"\"\n",
            "    def calculate_total_distance(path: list[int]) -> float:\n",
            "        total_distance = 0.0\n",
            "        for i in range(len(path)):\n",
            "            total_distance += distances[path[i-1], path[i]]  # Distance from last city to current city\n",
            "        return total_distance\n",
            "\n",
            "    def tsp_recursive(current_path: list[int], unvisited: list[int]) -> list[int]:\n",
            "        if not unvisited:\n",
            "            return current_path\n",
            "\n",
            "        best_path = []\n",
            "        min_distance = float(\"inf\")\n",
            "        \n",
            "        for city in unvisited:\n",
            "            for i in range(len(current_path)):\n",
            "                new_path = current_path[:i] + [city] + current_path[i:]\n",
            "                new_distance = calculate_total_distance(new_path)\n",
            "                if new_distance < min_distance:\n",
            "                    new_unvisited = unvisited.copy()\n",
            "                    new_unvisited.remove(city)\n",
            "                    potential_path = tsp_recursive(new_path, new_unvisited)\n",
            "                    potential_distance = calculate_total_distance(potential_path)\n",
            "                    if potential_distance < min_distance:\n",
            "                        best_path = potential_path\n",
            "                        min_distance = potential_distance\n",
            "        \n",
            "        return best_path\n",
            "\n",
            "    initial_path = [start_city]\n",
            "    remaining_cities = set(cities) - {start_city}\n",
            "    final_path = tsp_recursive(initial_path, list(remaining_cities))\n",
            "\n",
            "    return final_path\n",
            "------------------------------------------------------\n",
            "Score        : None\n",
            "Sample time  : 7.349449276924133\n",
            "Evaluate time: 0.47342586517333984\n",
            "Sample orders: 10\n",
            "======================================================\n",
            "\n",
            "\n",
            "section1: 路径长度 = 9050.69, 无最优参考, 时间 = 0.551s\n",
            "平均路径长度: 9050.69, 平均运行时间: 0.551s\n",
            "================= Evaluated Function =================\n",
            "def tsp_priority(current_path: list[int], unvisited: list[int], distances: np.ndarray) -> tuple[int, int]:\n",
            "    \"\"\"\n",
            "    选择 (city_to_insert, insert_position)，使新增距离增量最小。\n",
            "    insert_position 表示要把 city 插到 current_path 的哪个索引之前。\n",
            "    \"\"\"\n",
            "    best_delta = float(\"inf\")\n",
            "    best_city, best_position = unvisited[0], 1\n",
            "\n",
            "    path_len = len(current_path)\n",
            "    for candidate_city in unvisited:\n",
            "        for idx in range(path_len):\n",
            "            i = current_path[idx]\n",
            "            j = current_path[(idx + 1) % path_len]\n",
            "            delta = distances[i, candidate_city] + distances[candidate_city, j] - distances[i, j]\n",
            "            if delta < best_delta:\n",
            "                best_delta = delta\n",
            "                best_city = candidate_city\n",
            "                best_position = idx + 1\n",
            "\n",
            "    return best_city, best_position\n",
            "------------------------------------------------------\n",
            "Score        : -9050.693986415012\n",
            "Sample time  : 7.349449276924133\n",
            "Evaluate time: 0.8369624614715576\n",
            "Sample orders: 11\n",
            "======================================================\n",
            "\n",
            "\n",
            "section1: 路径长度 = 9050.69, 无最优参考, 时间 = 0.540s\n",
            "平均路径长度: 9050.69, 平均运行时间: 0.540s\n",
            "================= Evaluated Function =================\n",
            "def tsp_priority(current_path: list[int], unvisited: list[int], distances: np.ndarray) -> tuple[int, int]:\n",
            "    \"\"\"\n",
            "    选择 (city_to_insert, insert_position)，使新增距离增量最小。\n",
            "    insert_position 表示要把 city 插到 current_path 的哪个索引之前。\n",
            "    \"\"\"\n",
            "    best_delta = float(\"inf\")\n",
            "    best_city, best_position = unvisited[0], 1\n",
            "\n",
            "    path_len = len(current_path)\n",
            "    for candidate_city in unvisited:\n",
            "        for idx in range(path_len):\n",
            "            i = current_path[idx]\n",
            "            j = current_path[(idx + 1) % path_len]\n",
            "            delta = (\n",
            "                distances[i, candidate_city]\n",
            "                + distances[candidate_city, j]\n",
            "                - distances[i, j]\n",
            "            )\n",
            "            if delta < best_delta:\n",
            "                best_delta = delta\n",
            "                best_city = candidate_city\n",
            "                best_position = idx + 1\n",
            "\n",
            "    return best_city, best_position\n",
            "------------------------------------------------------\n",
            "Score        : -9050.693986415012\n",
            "Sample time  : 7.349449276924133\n",
            "Evaluate time: 0.8146698474884033\n",
            "Sample orders: 12\n",
            "======================================================\n",
            "\n",
            "\n",
            "================= Evaluated Function =================\n",
            "def tsp_priority(current_path: list[int], unvisited: list[int], distances: np.ndarray) -> tuple[int, int]:\n",
            "    \"\"\"\n",
            "    选择 (city_to_insert, insert_position)，使新增距离增量最小。\n",
            "    insert_position 表示要把 city 插到 current_path 的哪个索引之前。\n",
            "    \"\"\"\n",
            "    def calculate_cost(path: list[int]) -> int:\n",
            "        cost = 0\n",
            "        for i in range(len(path)):\n",
            "            cost += distances[path[i - 1]][path[i]]\n",
            "        return cost\n",
            "\n",
            "    def find_best_insertion(candidate_city: int, current_path: list[int]) -> tuple[int, int]:\n",
            "        best_cost = float(\"inf\")\n",
            "        best_position = 0\n",
            "\n",
            "        for idx in range(1, len(current_path)):\n",
            "            new_path = current_path[:idx] + [candidate_city] + current_path[idx:]\n",
            "            new_cost = calculate_cost(new_path)\n",
            "            if new_cost < best_cost:\n",
            "                best_cost = new_cost\n",
            "                best_position = idx\n",
            "\n",
            "        return best_cost, best_position\n",
            "\n",
            "    unvisited_cities = list(range(1, len(distances)))\n",
            "    current_path = [0]\n",
            "    total_cost = 0\n",
            "\n",
            "    while unvisited_cities:\n",
            "        best_city, best_path_cost, best_position = -1, float(\"inf\"), 0\n",
            "        for candidate_city in unvisited_cities:\n",
            "            cost, position = find_best_insertion(candidate_city, current_path)\n",
            "            if cost < best_path_cost:\n",
            "                best_city = candidate_city\n",
            "                best_path_cost = cost\n",
            "                best_position = position\n",
            "\n",
            "        current_path.insert(best_position, best_city)\n",
            "        unvisited_cities.remove(best_city)\n",
            "        total_cost = best_path_cost\n",
            "\n",
            "    total_cost += distances[current_path[-1]][0]\n",
            "\n",
            "    return total_cost, current_path\n",
            "------------------------------------------------------\n",
            "Score        : None\n",
            "Sample time  : 7.349449276924133\n",
            "Evaluate time: 1.4103984832763672\n",
            "Sample orders: 13\n",
            "======================================================\n",
            "\n",
            "\n"
          ]
        }
      ],
      "source": [
        "from implementation import funsearch\n",
        "from implementation import config\n",
        "import dataclasses\n",
        "\n",
        "# It should be noted that the if __name__ == '__main__' is required.\n",
        "# Because the inner code uses multiprocess evaluation.\n",
        "if __name__ == '__main__':\n",
        "    class_config = config.ClassConfig(llm_class=LLMAPI, sandbox_class=Sandbox)\n",
        "\n",
        "    # default setting\n",
        "    config = config.Config(samples_per_prompt=4, evaluate_timeout_seconds=30)\n",
        "    global_max_sample_num = 10  # if it is set to None, funsearch will execute an endless loop\n",
        "\n",
        "    # test setting\n",
        "    #config = config.Config(samples_per_prompt=1, evaluate_timeout_seconds=30,programs_database=config.ProgramsDatabaseConfig(num_islands=1))\n",
        "    #global_max_sample_num = 2\n",
        "\n",
        "    funsearch.main(\n",
        "        specification=specification,\n",
        "        inputs=dataset_to_eval,\n",
        "        config=config,\n",
        "        max_sample_nums=global_max_sample_num,\n",
        "        class_config=class_config,\n",
        "        log_dir='../logs/funsearch_llm_api'\n",
        "    )"
      ]
    }
  ],
  "metadata": {
    "colab": {
      "provenance": []
    },
    "kernelspec": {
      "display_name": "Python 3",
      "name": "python3"
    },
    "language_info": {
      "codemirror_mode": {
        "name": "ipython",
        "version": 3
      },
      "file_extension": ".py",
      "mimetype": "text/x-python",
      "name": "python",
      "nbconvert_exporter": "python",
      "pygments_lexer": "ipython3",
      "version": "3.9.13"
    }
  },
  "nbformat": 4,
  "nbformat_minor": 5
}